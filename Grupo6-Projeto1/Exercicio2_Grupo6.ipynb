{
 "cells": [
  {
   "cell_type": "markdown",
   "id": "ab183b42",
   "metadata": {},
   "source": [
    "# Trabalho 2 - SVP"
   ]
  },
  {
   "cell_type": "markdown",
   "id": "2d01346f",
   "metadata": {},
   "source": [
    "17 de outubro de 2022"
   ]
  },
  {
   "cell_type": "markdown",
   "id": "ad6e3c81",
   "metadata": {},
   "source": [
    "André Oliveira Barbosa - A91684\n",
    "Francisco Antonio Borges Paulino - A91666"
   ]
  },
  {
   "cell_type": "markdown",
   "id": "802ec936",
   "metadata": {},
   "source": [
    "# Caso de Estudo \n",
    "\n",
    "O chamado problema do vetor curto  (SVP) consiste  no cálculo de um vetor de inteiros\n",
    "$$\\;e\\in \\{-1,0,1\\}^m\\;$$\n",
    "não nulo que  verifique a seguinte relação matricial\n",
    "$$\\forall\\,i < n\\,\\centerdot\\, \\sum_{j< m}\\,e_j\\,\\times\\,\\mathsf{L}_{j,i}\\;\\equiv\\;0\\mod q$$\n",
    "\n",
    "Para tal pertende-se resolver o SVP por programação inteira no qual teremos de respeitar certas condições.  \n",
    "\n",
    "### Condições:\n",
    "\n",
    "\n",
    "1. Os valores $m,n,q$  são escolhidos com ,$n > 6, |m| > 1 + |n| e |q| > |m|$.\n",
    "$$\\newline$$\n",
    "2. O valor de $q$ é primo e $q \\geq 3$.\n",
    "$$\\newline$$\n",
    "3. Os elementos $L_{j,i}$ são gerados aleatória e uniformemente no intervalo inteiro $\\{-d \\cdots d\\}$ sendo $d\\equiv (q-1)/2$. \n",
    "$$\\newline$$\n",
    "4. Determinar em primeiro lugar, se existe um vetor $\\,e\\,$ não nulo (pelo menos um dos $\\,e_j\\,$ é diferente de zero).\n",
    "$$\\newline$$\n",
    "5. Se existir $\\,e\\,$ pretende-se calcular o vetor que minimiza o número de componentes não nulas."
   ]
  },
  {
   "cell_type": "markdown",
   "id": "8c1c9a45",
   "metadata": {},
   "source": [
    "### Variáveis:\n",
    "- $L_{j,i}$ - matriz que representa o reticulado \n",
    "$$\\newline$$\n",
    "- $M$ \n",
    "$$\\newline$$\n",
    "- $N$\n",
    "$$\\newline$$\n",
    "- $q$\n",
    "$$\\newline$$\n",
    "- $D$\n",
    "$$\\newline$$\n",
    "- $E$\n",
    "$$\\newline$$\n",
    "\n"
   ]
  },
  {
   "cell_type": "markdown",
   "id": "2f01f41d",
   "metadata": {},
   "source": [
    "# Inicialização\n",
    "Para a resolução deste exercício utilizamos a biblioteca [OR-Tools](https://developers.google.com/optimization) que criou uma interface para o SCIP. Esta biblioteca foi instalada com o commando pip install ortools.\n",
    "\n"
   ]
  },
  {
   "cell_type": "code",
   "execution_count": 1,
   "id": "540f9611",
   "metadata": {},
   "outputs": [
    {
     "name": "stdout",
     "output_type": "stream",
     "text": [
      "Requirement already satisfied: ortools in c:\\users\\andre\\anaconda3\\envs\\logica\\lib\\site-packages (9.4.1874)\n",
      "Requirement already satisfied: protobuf>=3.19.4 in c:\\users\\andre\\anaconda3\\envs\\logica\\lib\\site-packages (from ortools) (4.21.6)\n",
      "Requirement already satisfied: absl-py>=0.13 in c:\\users\\andre\\anaconda3\\envs\\logica\\lib\\site-packages (from ortools) (1.2.0)\n",
      "Requirement already satisfied: numpy>=1.13.3 in c:\\users\\andre\\anaconda3\\envs\\logica\\lib\\site-packages (from ortools) (1.23.3)\n"
     ]
    }
   ],
   "source": [
    "!pip install ortools"
   ]
  },
  {
   "cell_type": "markdown",
   "id": "33641323",
   "metadata": {},
   "source": [
    "# Implementação"
   ]
  },
  {
   "cell_type": "markdown",
   "id": "e800794a",
   "metadata": {},
   "source": [
    "Começamos por importar a biblioteca de programação linear do OR-Tools e criar uma instância do solver.\n",
    "\n",
    "Depois inicializamos o solver ferramenta e definir os valores para as constantes m,n,q."
   ]
  },
  {
   "cell_type": "code",
   "execution_count": 10,
   "id": "2575b580",
   "metadata": {},
   "outputs": [],
   "source": [
    "from ortools.linear_solver import pywraplp\n",
    "from ortools.sat.python import cp_model\n",
    "import random\n",
    "import networkx as nx\n",
    "\n",
    "solver = pywraplp.Solver.CreateSolver('SCIP')\n",
    "\n",
    "\n"
   ]
  },
  {
   "cell_type": "markdown",
   "id": "f5ef89c6",
   "metadata": {},
   "source": [
    "## Modelação das restrições e introdução do solver"
   ]
  },
  {
   "cell_type": "markdown",
   "id": "bc96f24f",
   "metadata": {},
   "source": [
    "Passamos agora à modelação das restrições e à sua introdução no solver. Para tal, iremos analizar as condições e subdividi-las de forma a facilitar a criação de uma expressão lógica, bem como a sua interpretação.\n",
    "1. O valor de $ n > 30$. "
   ]
  },
  {
   "cell_type": "markdown",
   "id": "04f71730",
   "metadata": {},
   "source": [
    "2. O valor de $ |m| > 1+ |n|$.\n",
    "\n",
    "\n",
    "Tendo em atenção as notas do exercicio, sabemos que para um dado $x \\ge 0$, representa-se por $|x|$, o tamanho de $x$ em bits: o menor $l$ tal que $x < 2^\\ell $ \n",
    "\n",
    "Após analisar a condição imposta, conseguimos perceber que o comprimento de $m$ do número de bits será superiror ao comprimento de $n$ em bits uma vez que $|m| > 1 + |n|$.\n",
    "\n",
    "Para conseguir calcular o número de bits de $m$ teremos de descobrir o número de bits de $n$ primeiro. Assim, tendo em conta que $|m| > |n| + 1$, $m < 2^{n+2}$  \n",
    "Uma vez que $m$ tem de ser inferior a $2^{n+2}$, um possivel valor para $m$ seria dado pela seguinte formula: $m = 2^{n+2}-1.$ \n",
    "\n",
    "Para tal, será necessario a criação de uma função para calcular o valor de $m$.\n",
    " \n"
   ]
  },
  {
   "cell_type": "code",
   "execution_count": 3,
   "id": "d2eebeeb",
   "metadata": {},
   "outputs": [],
   "source": [
    "def valorm(N):\n",
    "    a = 0\n",
    "    while N>0:\n",
    "        a+=1\n",
    "        N//=2\n",
    "    m=2**(a+2)-1\n",
    "    return m\n",
    "\n",
    "#print(m)"
   ]
  },
  {
   "cell_type": "markdown",
   "id": "4b8f3adb",
   "metadata": {},
   "source": [
    "3. O valor de $ |q| > |m|$ e q é primo.\n"
   ]
  },
  {
   "cell_type": "code",
   "execution_count": 4,
   "id": "f97d690f",
   "metadata": {},
   "outputs": [],
   "source": [
    "def primo(num):\n",
    "    if num > 1:\n",
    "        if num==2 or num==3:\n",
    "            return True\n",
    "        for i in range(2, num//2):\n",
    "            if (num % i) == 0:\n",
    "                return False\n",
    "                break\n",
    "            else:\n",
    "                return True\n",
    "    else:\n",
    "        return False\n",
    "\n",
    "\n",
    "#calcula q\n",
    "def valorq(M):\n",
    "    b = 0\n",
    "    m= M\n",
    "\n",
    "    #calcula |m|\n",
    "    while m > 0:\n",
    "        b += 1\n",
    "        m//=2\n",
    "    #como |q|> |m|, entao:\n",
    "    b+=1\n",
    "    #queremos encontrar um primo entre m e 2^b , para evitar casos em que o q seja m , temos de ter em consideraçao que\n",
    "    #o intrevalo é entre m+1 e 2^b\n",
    "    i = M+1\n",
    "    T = 2**b\n",
    "    while i < T:\n",
    "        if primo(i) : return i\n",
    "        else : i+=1\n"
   ]
  },
  {
   "cell_type": "markdown",
   "id": "ea19501d",
   "metadata": {},
   "source": [
    "4. Os elementos  $𝐿_{𝑗,𝑖}$  são gerados aleatória e uniformemente no intervalo inteiro  $\\{−𝑑⋯𝑑\\}$  sendo  $𝑑 ≡ (𝑞−1)/2$ \n"
   ]
  },
  {
   "cell_type": "markdown",
   "id": "b2669c9e",
   "metadata": {},
   "source": [
    "## Definição da matriz de alocação\n"
   ]
  },
  {
   "cell_type": "code",
   "execution_count": 5,
   "id": "a11e51dd",
   "metadata": {},
   "outputs": [],
   "source": [
    "def lMatriz(matriz, N):\n",
    "\n",
    "    M = valorm(N)\n",
    "    Q = valorq(M)\n",
    "    \n",
    "    d = (Q-1)/2\n",
    "    d = int(d)\n",
    "\n",
    "    #criar a matriz\n",
    "    for i in range(N):\n",
    "        matriz[i]={}\n",
    "        for j in range(M):\n",
    "            matriz[i][j]={}\n",
    "\n",
    "    #insere aleatoriamente elementos na matriz\n",
    "\n",
    "    for x in range(N):\n",
    "        for y in range(M):\n",
    "            matriz[x][y] = random.randint(-d,d)\n",
    "\n",
    "    #for n in range(N):\n",
    "     #   print('\\n')\n",
    "      #  for m in range(M):\n",
    "       #     print(matriz[n][m], end=' ')"
   ]
  },
  {
   "cell_type": "markdown",
   "id": "7add0ff5",
   "metadata": {},
   "source": [
    " ## Inputs e Outputs "
   ]
  },
  {
   "cell_type": "code",
   "execution_count": 6,
   "id": "5c6556b5",
   "metadata": {},
   "outputs": [
    {
     "name": "stdout",
     "output_type": "stream",
     "text": [
      "m= 15 \n",
      "q= 17\n"
     ]
    }
   ],
   "source": [
    "N=3\n",
    "matriz = {}\n",
    "\n",
    "m = valorm(N)\n",
    "q = valorq(m)\n",
    "\n",
    "print(\"m=\",m, \"\\nq=\",q)\n",
    "\n",
    "lMatriz(matriz, N)"
   ]
  },
  {
   "cell_type": "markdown",
   "id": "91ae6584",
   "metadata": {},
   "source": [
    "## Criação de um vetor e"
   ]
  },
  {
   "cell_type": "markdown",
   "id": "e7347883",
   "metadata": {},
   "source": [
    "Passamos a criação do vetor $e$ de dimensões $m$ e que será composto pelos valores $\\{-1,0,1\\}$\n",
    "$\\newline$\n",
    "Para tar iremos recorrer ao uso da ferramento do $cp\\space model$."
   ]
  },
  {
   "cell_type": "code",
   "execution_count": 14,
   "id": "a83b21b8",
   "metadata": {},
   "outputs": [],
   "source": [
    "def vetorE(matriz,N,m,q):\n",
    "    #print(N)\n",
    "    #print(m)\n",
    "    #print(q)\n",
    "    model = cp_model.CpModel()\n",
    "    #criação do vetor e no range de [-1,1]\n",
    "    e={}\n",
    "    for i in range(m):\n",
    "        e[i] = model.NewIntVar(-1,1,f'e[{i}]')\n",
    "\n",
    "    k={}\n",
    "    for i in range(N):\n",
    "        k[i] = model.NewIntVar(10000,-10000, f'k[{i}]')\n",
    "\n",
    "    #verificar que e_i é diferente de 0\n",
    "    model.Add(sum(e[i] for i in range(m)) >0)\n",
    "\n",
    "    #verifica a segunda condiçao\n",
    "    for i in range(N):\n",
    "        model.Add(sum(e[j] * (matriz[i][j] ) for j in range(m)) == k[i]*q)\n",
    "    \n",
    "    #solver\n",
    "    solver = cp_model.CpSolver()\n",
    "    status = solver.Solve(model)\n",
    "    if status == cp_model.OPTIMAL or status == cp_model.FEASIBLE:\n",
    "        for i in range(m):\n",
    "            print(solver.value(e[i]))\n",
    "    else:\n",
    "        print(\"Not found\")"
   ]
  },
  {
   "cell_type": "code",
   "execution_count": 15,
   "id": "376af2c7",
   "metadata": {},
   "outputs": [
    {
     "name": "stdout",
     "output_type": "stream",
     "text": [
      "Not found\n"
     ]
    }
   ],
   "source": [
    "vetorE(matriz,N,m,q)"
   ]
  },
  {
   "cell_type": "markdown",
   "id": "1bef3bda",
   "metadata": {},
   "source": [
    "## Verificação da condição inicial"
   ]
  },
  {
   "cell_type": "markdown",
   "id": "59567a35",
   "metadata": {},
   "source": [
    "Para finalizar o problema do vetor curto é necessario verificar a seguinte relação:\n",
    "$$\\forall\\,i < n\\,\\centerdot\\, \\sum_{j< m}\\,e_j\\,\\times\\,\\mathsf{L}_{i,j}\\;\\equiv\\;0\\mod q$$\n",
    "\n"
   ]
  },
  {
   "cell_type": "code",
   "execution_count": 9,
   "id": "0e80f983",
   "metadata": {},
   "outputs": [
    {
     "data": {
      "text/plain": [
       "'\\nfor i in range(N):\\n    solver.Add(sum((e[j] * matriz[i][j]) for j in range(m)) == 0 % q)\\n'"
      ]
     },
     "execution_count": 9,
     "metadata": {},
     "output_type": "execute_result"
    }
   ],
   "source": [
    "'''\n",
    "for i in range(N):\n",
    "    solver.Add(sum((e[j] * matriz[i][j]) for j in range(m)) == 0 % q)\n",
    "'''"
   ]
  }
 ],
 "metadata": {
  "kernelspec": {
   "display_name": "Python 3 (ipykernel)",
   "language": "python",
   "name": "python3"
  },
  "language_info": {
   "codemirror_mode": {
    "name": "ipython",
    "version": 3
   },
   "file_extension": ".py",
   "mimetype": "text/x-python",
   "name": "python",
   "nbconvert_exporter": "python",
   "pygments_lexer": "ipython3",
   "version": "3.10.4"
  }
 },
 "nbformat": 4,
 "nbformat_minor": 5
}
