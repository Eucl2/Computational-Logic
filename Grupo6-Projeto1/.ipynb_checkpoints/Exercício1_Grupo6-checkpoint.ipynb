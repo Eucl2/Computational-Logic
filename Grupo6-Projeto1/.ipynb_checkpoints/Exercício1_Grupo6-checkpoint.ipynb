{
 "cells": [
  {
   "cell_type": "markdown",
   "id": "4a3c2c3e",
   "metadata": {},
   "source": [
    "# Trabalho 1 - Horário"
   ]
  },
  {
   "cell_type": "markdown",
   "id": "2d01346f",
   "metadata": {},
   "source": [
    "17 de outubro de 2022"
   ]
  },
  {
   "cell_type": "markdown",
   "id": "ad6e3c81",
   "metadata": {},
   "source": [
    "André Oliveira Barbosa - A91684\n",
    "Francisco Antonio Borges Paulino - A91666"
   ]
  },
  {
   "cell_type": "markdown",
   "id": "802ec936",
   "metadata": {},
   "source": [
    "# Caso de Estudo \n",
    "\n",
    "   Pretende-se construir um horário semanal para o plano de reuniões de projeto de uma “StartUp”. O horário tem 𝑆 salas que serão ocupadas durante um slot T. Cada reunião terá associado um projeto P, e C colaboradores.\n",
    "   \n",
    "\n",
    "### Condições:\n",
    "\n",
    "As reuniões reuniões funcionam de acordo com as seguintes regras:\n",
    "\n",
    "    1.  Cada reunião ocupa uma sala (enumeradas 1...S,) durante um “slot”  1..T, (hora,dia).\n",
    "\n",
    "    2.  Cada reunião tem associado um projeto (enumerados 1..P) e um conjunto de participantes. Os diferentes colaboradores são enumerados 1..C.\n",
    "\n",
    "    3. Cada projeto tem associado um conjunto de colaboradores, dos quais um  é o líder. Cada projeto realiza um dado número de reuniões semanais. \n",
    "\n",
    "    4. O líder do projeto participa em todas as reuniões do seu projeto; os restantes colaboradores podem ou não participar consoante a sua disponibilidade, num mínimo (“quorum”) de  50% do total de colaboradores do projeto."
   ]
  },
  {
   "cell_type": "markdown",
   "id": "3420d98c",
   "metadata": {},
   "source": [
    "### Análise do Problema:\n",
    "   Deparamo-nos assim com um problema de alocação. Pretende-se alocar colaboradores a salas de reunião, associadas a um projeto, ao longo da semana, em slots.\n",
    "    \n",
    "   Existem S salas, que podemos identificar por um índice  s ∈ [0..S−1] , às quais podemos atribuir um projeto P que decorre num dado slot T, por um duplo (p,t)∈[0..P−1]×[0..T−1].\n",
    "   \n",
    "  Assim, vamos usar uma família 𝑥_{𝑠,p,t} de variáveis binárias, com a seguinte semântica:\n",
    "  \n",
    "$$𝑥_{𝑠,p,t}==1 \\quad \\mbox {se e só se} \\quad \\mbox{o projeto $𝑝$ for alocado à sala $𝑠$, no slot $t$} $$\n",
    "\n",
    " \n",
    " Existem C colaboradores, que podemos identificar por um índice  c ∈ [0..C−1] , às quais podemos atribuir um projeto P que decorre num dado slot T, por um duplo (p,t)∈[0..P−1]×[0..T−1].\n",
    "   \n",
    "  Assim, vamos usar uma família y_{c,p,t} de variáveis binárias, com a seguinte semântica:\n",
    "  \n",
    "$$y_{c,p,t}==1 \\quad \\mbox {se e só se} \\quad \\mbox{o colaborador $c$ for alocado ao projeto $p$, no slot $t$} $$"
   ]
  },
  {
   "cell_type": "markdown",
   "id": "8c1c9a45",
   "metadata": {},
   "source": [
    "### Variáveis:\n",
    "      S - Sala \n",
    "      T - Slot (hora, dia)\n",
    "      P - Projeto\n",
    "      C - Colaboradores\n",
    "    \n",
    "### Variáveis auxiliares:\n",
    "\n",
    "      𝑥_{𝑠,p,t} - representa o projeto 𝑝 alocado à sala 𝑠, no slot t\n",
    "      y_{c,p,t} - representa o colaborador c alocado ao projeto p, no slot t\n"
   ]
  },
  {
   "cell_type": "markdown",
   "id": "2f01f41d",
   "metadata": {},
   "source": [
    "# Inicialização\n",
    "Para a resolução deste exercício utilizamos a biblioteca [OR-Tools](https://developers.google.com/optimization) que criou uma interface para o SCIP. Esta biblioteca foi instalada com o commando pip install ortools.\n",
    "\n"
   ]
  },
  {
   "cell_type": "code",
   "execution_count": 159,
   "id": "540f9611",
   "metadata": {},
   "outputs": [
    {
     "name": "stdout",
     "output_type": "stream",
     "text": [
      "Requirement already satisfied: ortools in c:\\users\\andre\\anaconda3\\envs\\logica\\lib\\site-packages (9.4.1874)\n",
      "Requirement already satisfied: absl-py>=0.13 in c:\\users\\andre\\anaconda3\\envs\\logica\\lib\\site-packages (from ortools) (1.2.0)\n",
      "Requirement already satisfied: numpy>=1.13.3 in c:\\users\\andre\\anaconda3\\envs\\logica\\lib\\site-packages (from ortools) (1.23.3)\n",
      "Requirement already satisfied: protobuf>=3.19.4 in c:\\users\\andre\\anaconda3\\envs\\logica\\lib\\site-packages (from ortools) (4.21.6)\n"
     ]
    }
   ],
   "source": [
    "!pip install ortools"
   ]
  },
  {
   "cell_type": "markdown",
   "id": "33641323",
   "metadata": {},
   "source": [
    "# Implementação"
   ]
  },
  {
   "cell_type": "markdown",
   "id": "e800794a",
   "metadata": {},
   "source": [
    "Começamos por importar a biblioteca de programação linear do OR-Tools e criar uma instância do solver.\n",
    "\n",
    "Depois inicializamos o solver horario e definir os valores para as constantes   𝑃 , T, P, 𝐶  ."
   ]
  },
  {
   "cell_type": "code",
   "execution_count": 160,
   "id": "2575b580",
   "metadata": {},
   "outputs": [],
   "source": [
    "from ortools.linear_solver import pywraplp\n",
    "import random\n",
    "\n",
    "horario = pywraplp.Solver.CreateSolver('SCIP')\n",
    "\n"
   ]
  },
  {
   "cell_type": "code",
   "execution_count": 161,
   "id": "5a361c3c",
   "metadata": {},
   "outputs": [
    {
     "data": {
      "text/plain": [
       "'\\n#Exemplo 2\\n### Inputs do problema\\nS, P, T, C = 2, 3, 12, 4\\n# Número de projeto: (Líder de projeto, Número de reuniões semanais, Lista de colaboradores)\\nprojetos = {\\n1: (1, 5, [1,2]),\\n2: (2, 2,[1]),\\n3: (3, 6,[2])\\n}\\n# Número do colaborador: Lista de slots\\ncolaboradores = {\\n1: [1,2,3,4,5,6,7,8,9,10,11,12],\\n2: [1,2,3,4,5,6,7,8,9,10,11,12],\\n3: [1,2,3,4,5,6,7,8,9,10,11,12],\\n4: [1,2,3,4,5,6,7,8,9,10,11,12]\\n}\\nprint(colaboradores)\\n'"
      ]
     },
     "execution_count": 161,
     "metadata": {},
     "output_type": "execute_result"
    }
   ],
   "source": [
    "### Inputs do problema\n",
    "\n",
    "#Exemplo 1\n",
    "S, P, T, C = 2, 3, 10, 4\n",
    "# Número de projeto: (Líder de projeto, Número de reuniões semanais, Lista de colaboradores)\n",
    "projetos = {\n",
    "    1: (1, 4, [1,2]),\n",
    "    2: (2, 3, [1]),\n",
    "    3: (3, 5, [2])\n",
    "}\n",
    "# Número do colaborador: Lista de slots\n",
    "colaboradores = {\n",
    "1: [1,2,3,4,5,6,7,8,9,10],\n",
    "2: [1,2,3,4,5,6,7,8,9,10],\n",
    "3: [1,2,3,4,5,6,7,8,9,10],\n",
    "4: [1,2,3,4,5,6,7,8,9,10]\n",
    "\n",
    "}\n",
    "'''\n",
    "#Exemplo 2\n",
    "### Inputs do problema\n",
    "S, P, T, C = 2, 3, 12, 4\n",
    "# Número de projeto: (Líder de projeto, Número de reuniões semanais, Lista de colaboradores)\n",
    "projetos = {\n",
    "1: (1, 5, [1,2]),\n",
    "2: (2, 2,[1]),\n",
    "3: (3, 6,[2])\n",
    "}\n",
    "# Número do colaborador: Lista de slots\n",
    "colaboradores = {\n",
    "1: [1,2,3,4,5,6,7,8,9,10,11,12],\n",
    "2: [1,2,3,4,5,6,7,8,9,10,11,12],\n",
    "3: [1,2,3,4,5,6,7,8,9,10,11,12],\n",
    "4: [1,2,3,4,5,6,7,8,9,10,11,12]\n",
    "}\n",
    "print(colaboradores)\n",
    "'''"
   ]
  },
  {
   "cell_type": "markdown",
   "id": "b2669c9e",
   "metadata": {},
   "source": [
    "### Declaração das matrizes de alocação\n"
   ]
  },
  {
   "cell_type": "code",
   "execution_count": 162,
   "id": "7ae340f9",
   "metadata": {},
   "outputs": [
    {
     "name": "stdout",
     "output_type": "stream",
     "text": [
      "{1: [1, 2, 3, 4, 5, 6, 7, 8, 9, 10], 2: [1, 2, 3, 4, 5, 6, 7, 8, 9, 10], 3: [1, 2, 3, 4, 5, 6, 7, 8, 9, 10], 4: [1, 2, 3, 4, 5, 6, 7, 8, 9, 10]}\n"
     ]
    }
   ],
   "source": [
    "x={}\n",
    "\n",
    "for s in range(S):\n",
    "    x[s] = {}\n",
    "    for p in range(P):\n",
    "        x[s][p] = {}\n",
    "        for t in range(T):\n",
    "            x[s] [p] [t] = horario.BoolVar(f'X[{s}, {p}, {t}]')\n",
    "            \n",
    "\n",
    "def X(s,p,t):             \n",
    "    return x[s][p][t]           \n",
    "print(colaboradores)"
   ]
  },
  {
   "cell_type": "code",
   "execution_count": 163,
   "id": "5f95e7bd",
   "metadata": {},
   "outputs": [
    {
     "name": "stdout",
     "output_type": "stream",
     "text": [
      "{1: [1, 2, 3, 4, 5, 6, 7, 8, 9, 10], 2: [1, 2, 3, 4, 5, 6, 7, 8, 9, 10], 3: [1, 2, 3, 4, 5, 6, 7, 8, 9, 10], 4: [1, 2, 3, 4, 5, 6, 7, 8, 9, 10]}\n"
     ]
    }
   ],
   "source": [
    "\n",
    "y={}\n",
    "\n",
    "for c in range(C):\n",
    "    y[c] = {}\n",
    "    for p in range(P):\n",
    "        y[c][p] = {}\n",
    "        for t in range(T):\n",
    "            y[c] [p] [t] = horario.BoolVar(f'Y[{c}, {p}, {t}]')\n",
    "\n",
    "\n",
    "def Y(c,p,t):\n",
    "    return y[c][p][t]\n",
    "print(colaboradores)"
   ]
  },
  {
   "cell_type": "code",
   "execution_count": 164,
   "id": "e0cfd884",
   "metadata": {},
   "outputs": [],
   "source": [
    "\n",
    "z={}\n",
    "\n",
    "for t in range(T):\n",
    "    z[t] = {}\n",
    "    for p in range(P):\n",
    "        z[t][p]= horario.BoolVar(f'Z[{t}, {p}]')\n",
    "        \n",
    "def Z(t,p):\n",
    "    return z[t][p]"
   ]
  },
  {
   "cell_type": "markdown",
   "id": "f5ef89c6",
   "metadata": {},
   "source": [
    "### Modelação das restrições e introdução do solver"
   ]
  },
  {
   "cell_type": "markdown",
   "id": "bc96f24f",
   "metadata": {},
   "source": [
    "Passamos agora à modelação das restrições e à sua introdução no solver. Para tal, iremos analizar as condições e subdividi-las de forma a facilitar a criação de uma expressão lógica, bem como a sua interpretação.\n",
    "\n",
    "A restrição\n",
    "\n",
    "    1.  Cada reunião ocupa uma sala (enumeradas 1...S,) durante um “slot”  1..T, (hora,dia). \n",
    "$$ \\forall_{t<T}. \\forall_{s<S}. \\sum_{p<P} x_{s,p,t} \\leq 1 $$"
   ]
  },
  {
   "cell_type": "code",
   "execution_count": 165,
   "id": "ebd50cec",
   "metadata": {},
   "outputs": [
    {
     "name": "stdout",
     "output_type": "stream",
     "text": [
      "{1: [1, 2, 3, 4, 5, 6, 7, 8, 9, 10], 2: [1, 2, 3, 4, 5, 6, 7, 8, 9, 10], 3: [1, 2, 3, 4, 5, 6, 7, 8, 9, 10], 4: [1, 2, 3, 4, 5, 6, 7, 8, 9, 10]}\n"
     ]
    }
   ],
   "source": [
    "\n",
    "for t in range(T):\n",
    "    for s in range(S):\n",
    "        horario.Add(sum([X(s,p,t) for p in range(P)]) <= 1)\n",
    "print(colaboradores)\n"
   ]
  },
  {
   "cell_type": "markdown",
   "id": "0b68d3ff",
   "metadata": {},
   "source": [
    "    2.  Cada reunião tem associado um projeto (enumerados 1..P) e um conjunto de participantes. Os diferentes colaboradores são enumerados 1..C.\n",
    "\n",
    "$$\\forall_{p<P}. \\forall_{t<T} . \\sum_{c<C} y_{c,p,t} \\leq 1$$"
   ]
  },
  {
   "cell_type": "code",
   "execution_count": 166,
   "id": "9fd60ebe",
   "metadata": {},
   "outputs": [
    {
     "name": "stdout",
     "output_type": "stream",
     "text": [
      "{1: [1, 2, 3, 4, 5, 6, 7, 8, 9, 10], 2: [1, 2, 3, 4, 5, 6, 7, 8, 9, 10], 3: [1, 2, 3, 4, 5, 6, 7, 8, 9, 10], 4: [1, 2, 3, 4, 5, 6, 7, 8, 9, 10]}\n"
     ]
    }
   ],
   "source": [
    "for p in range(P):\n",
    "    for t in range(T):\n",
    "        horario.Add(sum([Y(c,p,t) for c in range(C)]) <= 1)\n",
    "        \n",
    "print(colaboradores)"
   ]
  },
  {
   "cell_type": "markdown",
   "id": "651a5996",
   "metadata": {},
   "source": [
    " 3.Cada projeto realiza um dado número de reuniões semanais. ($ R_p = projetos[p][1])$\n",
    "$$\\forall_{p \\leq P} \\sum_{s \\leq S\\,t \\leq T} x_{s,p,t} = R_p $$"
   ]
  },
  {
   "cell_type": "code",
   "execution_count": 167,
   "id": "c8bc439e",
   "metadata": {},
   "outputs": [
    {
     "name": "stdout",
     "output_type": "stream",
     "text": [
      "{1: [1, 2, 3, 4, 5, 6, 7, 8, 9, 10], 2: [1, 2, 3, 4, 5, 6, 7, 8, 9, 10], 3: [1, 2, 3, 4, 5, 6, 7, 8, 9, 10], 4: [1, 2, 3, 4, 5, 6, 7, 8, 9, 10]}\n"
     ]
    }
   ],
   "source": [
    "for p in range(P):\n",
    "    reunioes = projetos[p+1][1]\n",
    "    horario.Add(sum([X(s,p,t) for s in range(S) for t in range(T)]) == reunioes)\n",
    "    \n",
    "print(colaboradores)"
   ]
  },
  {
   "cell_type": "markdown",
   "id": "39929792",
   "metadata": {},
   "source": [
    "    4. O líder do projeto participa em todas as reuniões do seu projeto;\n",
    "$$\\forall_{p<P}.\\forall_{t<T}. \\sum_{s<S} x_{s,p,t} = y_{lider,t,p} $$\n",
    "    "
   ]
  },
  {
   "cell_type": "code",
   "execution_count": 168,
   "id": "1c5b263f",
   "metadata": {},
   "outputs": [
    {
     "name": "stdout",
     "output_type": "stream",
     "text": [
      "{1: [1, 2, 3, 4, 5, 6, 7, 8, 9, 10], 2: [1, 2, 3, 4, 5, 6, 7, 8, 9, 10], 3: [1, 2, 3, 4, 5, 6, 7, 8, 9, 10], 4: [1, 2, 3, 4, 5, 6, 7, 8, 9, 10]}\n"
     ]
    }
   ],
   "source": [
    "for p in range(P):\n",
    "    for t in range(T):\n",
    "        lider= projetos[p+1][0]\n",
    "        #print(lider)\n",
    "        horario.Add(sum([X(s,p,t) for s in range(S)]) == y[lider][p][t])\n",
    "        \n",
    "print(colaboradores)"
   ]
  },
  {
   "cell_type": "markdown",
   "id": "73d46d3e",
   "metadata": {},
   "source": [
    "    5. Os restantes colaboradores podem ou não participar consoante a sua disponibilidade, num mínimo (“quorum”) de  50% do total de colaboradores do projeto.\n",
    "$$\\forall_{p<P}. \\forall_{t<T} \\sum_{c<C} y_{c,t,p} \\leq min * y_{lider,t,p} $$\n",
    "    "
   ]
  },
  {
   "cell_type": "code",
   "execution_count": 169,
   "id": "7ce66360",
   "metadata": {},
   "outputs": [
    {
     "name": "stdout",
     "output_type": "stream",
     "text": [
      "{1: [1, 2, 3, 4, 5, 6, 7, 8, 9, 10], 2: [1, 2, 3, 4, 5, 6, 7, 8, 9, 10], 3: [1, 2, 3, 4, 5, 6, 7, 8, 9, 10], 4: [1, 2, 3, 4, 5, 6, 7, 8, 9, 10]}\n"
     ]
    }
   ],
   "source": [
    "for p in range(P):\n",
    "    for t in range(T):\n",
    "        lider= projetos[p+1][0]\n",
    "        cols = projetos[p+1][2]\n",
    "        minC = 0.5 * len(cols)\n",
    "        horario.Add(sum([Y(c,p,t) for c in cols]) <= minC *  y[lider][p][t])\n",
    "        \n",
    "print(colaboradores)"
   ]
  },
  {
   "cell_type": "markdown",
   "id": "d7b236a8",
   "metadata": {},
   "source": [
    "6. Cada colaborador só pode ser colocado num slot em que esteja disponivel\n",
    "\n",
    "$$\\forall_{t<T}.\\forall_{p<P}.\\forall_{c<C} t \\notin colaboradores_c \\implies y_{c,p,t} =0$$\n"
   ]
  },
  {
   "cell_type": "code",
   "execution_count": 170,
   "id": "c814b13b",
   "metadata": {},
   "outputs": [],
   "source": [
    "for t in range(T):\n",
    "    for p in range(P):\n",
    "        for c in range(C):\n",
    "            if t not in colaboradores[c+1]:\n",
    "                horario.Add(y[c][p][t] == 0)\n"
   ]
  },
  {
   "cell_type": "markdown",
   "id": "a7f0ff94",
   "metadata": {},
   "source": [
    "7. Cada colaborador só pode participar num projeto de cada vez\n",
    "\n",
    "$$\\forall_{t<T}.\\forall_{c<C} \\sum_{p<P} y_{c,p,t} \\leq 1 $$\n"
   ]
  },
  {
   "cell_type": "code",
   "execution_count": 171,
   "id": "d8a65b86",
   "metadata": {},
   "outputs": [],
   "source": [
    "\n",
    "for t in range(T):\n",
    "    for c in range(C):\n",
    "        horario.Add(sum([Y(c,p,t) for p in range(P)]) <= 1)\n"
   ]
  },
  {
   "cell_type": "markdown",
   "id": "644f36b9",
   "metadata": {},
   "source": [
    "8. A variavel z_{t,p} tem valor 1 caso haja alguma reuniao do projeto p no slot t e tem valor 0 caso contrario \n",
    "\n",
    "$$(\\forall_{t<T}.\\forall_{p<P} \\space z_{t,p} \\leq ( \\sum_{s<S,t<T} x_{s,p,t})) \\land (\\forall_{t<T}.\\forall_{p<P}.\\forall_{s<S}\\space z_{t,p} \\geq x_{s,p,t})$$"
   ]
  },
  {
   "cell_type": "code",
   "execution_count": 172,
   "id": "f6338bd6",
   "metadata": {},
   "outputs": [],
   "source": [
    "\n",
    "for t in range (T):\n",
    "    for p in range(P):\n",
    "        horario.Add(z[t][p] <= sum([X(s,p,t) for s in range(S) for t in range(T)]))\n",
    "        for s in range(S):\n",
    "            horario.Add(z[t][p] >= x[s][p][t])"
   ]
  },
  {
   "cell_type": "markdown",
   "id": "e2efd8ca",
   "metadata": {},
   "source": [
    "9. Maximizar o número de dias em que cada projeto tem reuniões "
   ]
  },
  {
   "cell_type": "code",
   "execution_count": 173,
   "id": "e1910972",
   "metadata": {},
   "outputs": [],
   "source": [
    "\n",
    "horario.Maximize(sum([Z(t,p) for t in range(T) for p in range(P)]))"
   ]
  },
  {
   "cell_type": "markdown",
   "id": "0019a422",
   "metadata": {},
   "source": [
    "### Procura da solução do problema"
   ]
  },
  {
   "cell_type": "code",
   "execution_count": 176,
   "id": "b09c35f7",
   "metadata": {},
   "outputs": [
    {
     "name": "stdout",
     "output_type": "stream",
     "text": [
      "Solução encontrada: 12\n"
     ]
    }
   ],
   "source": [
    "status = horario.Solve()\n",
    "#print(status)\n",
    "#print(pywraplp.Solver.OPTIMAL)\n",
    "if status == pywraplp.Solver.OPTIMAL:\n",
    "    n = sum(int(X(s,p,t).solution_value())\n",
    "        for p in range(P)\n",
    "        for s in range(S)\n",
    "        for t in range(T)\n",
    "        )\n",
    "    \n",
    "    print(\"Solução encontrada:\",n)\n",
    "else:\n",
    "    print(\"Solução não encontrada.\")\n",
    "    "
   ]
  },
  {
   "cell_type": "markdown",
   "id": "6bf0da3e",
   "metadata": {},
   "source": [
    "### Construção e Apresentação dos Horários"
   ]
  },
  {
   "cell_type": "code",
   "execution_count": 177,
   "id": "e1343a68",
   "metadata": {},
   "outputs": [
    {
     "name": "stdout",
     "output_type": "stream",
     "text": [
      "Projeto 1 :\n",
      "------Sala 1 -------\n",
      "Dia: 3\n",
      " Slot: 5 Colaboradores : [1, 2]\n",
      "Dia: 3\n",
      " Slot: 6 Colaboradores : [1, 2]\n",
      "Dia: 4\n",
      " Slot: 7 Colaboradores : [1, 2]\n",
      "------Sala 2 -------\n",
      "Dia: 5\n",
      " Slot: 9 Colaboradores : [1, 2]\n",
      "\n",
      "\n",
      "Projeto 2 :\n",
      "------Sala 1 -------\n",
      "Dia: 5\n",
      " Slot: 9 Colaboradores : [1]\n",
      "------Sala 2 -------\n",
      "Dia: 3\n",
      " Slot: 6 Colaboradores : [1]\n",
      "Dia: 4\n",
      " Slot: 7 Colaboradores : [1]\n",
      "\n",
      "\n",
      "Projeto 3 :\n",
      "------Sala 1 -------\n",
      "Dia: 1\n",
      " Slot: 2 Colaboradores : [2]\n",
      "Dia: 2\n",
      " Slot: 3 Colaboradores : [2]\n",
      "Dia: 2\n",
      " Slot: 4 Colaboradores : [2]\n",
      "Dia: 4\n",
      " Slot: 8 Colaboradores : [2]\n",
      "Dia: 5\n",
      " Slot: 10 Colaboradores : [2]\n",
      "------Sala 2 -------\n",
      "\n",
      "\n"
     ]
    }
   ],
   "source": [
    "import math\n",
    "SlotsDia=T/5\n",
    "for p in range(P):\n",
    "    print(\"Projeto\", p+1,\":\")\n",
    "    for s in range(S):\n",
    "        print(\"------Sala\", s+1, \"-------\")\n",
    "        for t in range(T):\n",
    "            if x[s][p][t].solution_value() ==1:\n",
    "                cols = projetos[p+1][2]\n",
    "                print(\"Dia:\", math.ceil((t+1)/SlotsDia))\n",
    "                print(\" Slot:\",t+1, \"Colaboradores :\",cols)\n",
    "            #else:\n",
    "                #print(x[s][p][t].solution_value())\n",
    "    print(\"\\n\")"
   ]
  },
  {
   "cell_type": "code",
   "execution_count": null,
   "id": "a9c08fd3",
   "metadata": {},
   "outputs": [],
   "source": []
  }
 ],
 "metadata": {
  "kernelspec": {
   "display_name": "Python 3 (ipykernel)",
   "language": "python",
   "name": "python3"
  },
  "language_info": {
   "codemirror_mode": {
    "name": "ipython",
    "version": 3
   },
   "file_extension": ".py",
   "mimetype": "text/x-python",
   "name": "python",
   "nbconvert_exporter": "python",
   "pygments_lexer": "ipython3",
   "version": "3.10.4"
  }
 },
 "nbformat": 4,
 "nbformat_minor": 5
}
