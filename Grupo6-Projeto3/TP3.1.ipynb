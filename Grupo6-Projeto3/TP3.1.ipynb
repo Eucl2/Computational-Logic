{
 "cells": [
  {
   "cell_type": "markdown",
   "id": "8c13ff1e",
   "metadata": {},
   "source": [
    "# Trabalho 1 - Versão Simplificada do Model checking orientada aos interpolantes"
   ]
  },
  {
   "cell_type": "markdown",
   "id": "b7d017c9",
   "metadata": {},
   "source": [
    "14 de dezembro de 2022"
   ]
  },
  {
   "cell_type": "markdown",
   "id": "b453dc3f",
   "metadata": {},
   "source": [
    "André Oliveira Barbosa - A91684\n",
    "Francisco Antonio Borges Paulino - A91666"
   ]
  },
  {
   "cell_type": "markdown",
   "id": "34d955c0",
   "metadata": {},
   "source": [
    "# Caso de Estudo \n",
    "\n",
    "1. Pretende-se construir uma implementação simplificada do algoritmo “model checking” orientado aos interpolantes seguindo a estrutura apresentada nos apontamentos onde no passo $(n,m)\\,$na impossibilidade de encontrar um interpolante invariante se dá ao utilizador a possibilidade de incrementar um dos índices $n$ e $m$ à sua escolha.\n",
    "2. Pretende-se aplicar este algoritmo ao problema da multiplicação de inteiros positivos usando Inteiros apresentado no seguinte modelo:\n",
    " "
   ]
  },
  {
   "cell_type": "markdown",
   "id": "b21c944c",
   "metadata": {},
   "source": [
    "<img src='imgT1.png' width=\"400\" height=\"400\">"
   ]
  },
  {
   "cell_type": "code",
   "execution_count": 30,
   "id": "226bc0be",
   "metadata": {},
   "outputs": [],
   "source": [
    "from pysmt.shortcuts import *\n",
    "from pysmt.typing import INT\n",
    "from pysmt.typing import BVType\n",
    "\n",
    "import itertools "
   ]
  },
  {
   "cell_type": "markdown",
   "id": "eef434b0",
   "metadata": {},
   "source": [
    "### Inicialização"
   ]
  },
  {
   "cell_type": "code",
   "execution_count": 31,
   "id": "a644b2ab",
   "metadata": {},
   "outputs": [],
   "source": [
    "a=3\n",
    "b=7\n",
    "c=0\n",
    "n=5\n",
    "ctr=(2^n)"
   ]
  },
  {
   "cell_type": "markdown",
   "id": "bfcd3fbb",
   "metadata": {},
   "source": [
    "### Função genState \n",
    "Recebe a lista com o nome das variáveis do estado, uma etiqueta e um inteiro, e cria a i-ésima cópia das variáveis do estado para essa etiqueta. As variáveis lógicas começam sempre com o nome de base das variáveis dos estado, seguido do separador !."
   ]
  },
  {
   "cell_type": "code",
   "execution_count": 32,
   "id": "22087848",
   "metadata": {},
   "outputs": [],
   "source": [
    "def genState(vars,s,i):\n",
    "    state = {}\n",
    "    for v in vars:\n",
    "        state[v] = Symbol(v+'!'+s+str(i),BVType(n))\n",
    "    return state"
   ]
  },
  {
   "cell_type": "markdown",
   "id": "184eaf57",
   "metadata": {},
   "source": [
    "### Modelação do programa\n",
    "1. init1: dado um estado do programa (um dicionário de variáveis), devolve um predicado do pySMT que testa se esse estado é um possível estado inicial do programa.\n",
    "2. error1: dado um estado do programa, devolve um predicado do pySMT que testa se esse estado é um possível estado de erro do programa.\n",
    "3. trans1: dados dois estados do programa, devolve um predicado do pySMT que testa se é possível transitar do primeiro para o segundo estado"
   ]
  },
  {
   "cell_type": "code",
   "execution_count": 33,
   "id": "dd476165",
   "metadata": {},
   "outputs": [],
   "source": [
    "def init1(state):\n",
    "    return And(Equals(state['pc'], BV(0,n)),\n",
    "               Equals(state['x'], BV(a,n)),\n",
    "               Equals(state['y'], BV(b,n)),\n",
    "               Equals(state['z'], BV(c,n)))\n",
    "\n",
    "def error1(state):\n",
    "    return Equals(state['pc'], BV(4,n))\n",
    "\n",
    "\n",
    "def trans1(curr, prox):\n",
    "                  \n",
    "    '''\n",
    "    t01 = And(Equals(curr['pc'], BV(0,n)),\n",
    "              Equals(prox['pc'], BV(1,n)), \n",
    "              Equals(prox['x'], curr['x']),\n",
    "              Equals(prox['y'], curr['y']),\n",
    "              Equals(prox['z'], curr['z']))\n",
    "    '''\n",
    "    \n",
    "    t01 = And(Equals(curr['pc'], BV(0,n)),\n",
    "              NotEquals(curr['y'],BV(0,n)), \n",
    "              Equals((curr['y']^1),(curr['y']+1)),\n",
    "              Equals(prox['pc'], BV(1,n)),\n",
    "              Equals(prox['x'], curr['x']),\n",
    "              Equals(prox['y'], curr['y']),\n",
    "              Equals(prox['z'], curr['z']))\n",
    "    \n",
    "    t02 = And(Equals(curr['pc'], BV(0,n)),\n",
    "              NotEquals(curr['y'], BV(0,n)),\n",
    "              NotEquals((curr['y']^1),(curr['y']+1)),\n",
    "              Equals(prox['pc'], BV(2,n)),\n",
    "              Equals(prox['x'], curr['x']),\n",
    "              Equals(prox['y'], curr['y']),\n",
    "              Equals(prox['z'], curr['z']))\n",
    "    \n",
    "    t03 = And(Equals(curr['pc'], BV(0,n)),\n",
    "              Equals(curr['y'], BV(0,n)),\n",
    "              Equals(prox['pc'], BV(3,n)),\n",
    "              Equals(prox['x'], curr['x']),\n",
    "              Equals(prox['y'], curr['y']),\n",
    "              Equals(prox['z'], curr['z']))\n",
    "    \n",
    "    t14 = And(Equals(curr['pc'], BV(1,n)),\n",
    "              BVUGE(prox['x'], BV(ctr,n)),\n",
    "              Equals(prox['pc'], BV(4,n)),\n",
    "              Equals(prox['x'], curr['x']),\n",
    "              Equals(prox['y'], curr['y']),\n",
    "              Equals(prox['z'], curr['z']))\n",
    "    \n",
    "    t24 = And(Equals(curr['pc'], BV(2,n)),\n",
    "              BVUGE(prox['z'], BV(ctr,n)),\n",
    "              Equals(prox['pc'], BV(4,n)),\n",
    "              Equals(prox['x'], curr['x']),\n",
    "              Equals(prox['y'], curr['y']),\n",
    "              Equals(prox['z'], curr['z']))\n",
    "    \n",
    "    t10 = And(Equals(curr['pc'], BV(1,n)),\n",
    "              Equals(prox['pc'], BV(0,n)),\n",
    "              Equals(prox['x'], (curr['x']*BV(2,n))),\n",
    "              Equals(prox['y'], (curr['y']/BV(2,n))),\n",
    "              Equals(prox['z'], curr['z']))\n",
    "    \n",
    "    t20 = And(Equals(curr['pc'], BV(2,n)),\n",
    "              Equals(prox['pc'], BV(0,n)), \n",
    "              Equals(prox['x'], curr['x']),\n",
    "              Equals(prox['y'], curr['y']-BV(1,n)),\n",
    "              Equals(prox['z'], (curr['z']+curr['x'])))\n",
    "    \n",
    "    t33 = And(Equals(curr['pc'], BV(3,n)),\n",
    "              Equals(prox['pc'], BV(3,n)), \n",
    "              Equals(prox['x'], curr['x']),\n",
    "              Equals(prox['y'], curr['y']),\n",
    "              Equals(prox['z'], curr['z']))\n",
    "    \n",
    "    t44 =  And(Equals(curr['pc'], BV(4,n)),\n",
    "               Equals(prox['pc'], BV(4,n)),\n",
    "               Equals(prox['x'], curr['x']),\n",
    "               Equals(prox['y'], curr['y']),\n",
    "               Equals(prox['z'], curr['z']))\n",
    "     \n",
    "    return Or(t01,t02,t03,t14,t24,t10,t20,t33,t44)\n",
    "\n",
    "#, t12, t13, t14, t21, t25, t31, t35, t44, t55"
   ]
  },
  {
   "cell_type": "markdown",
   "id": "650aba7d",
   "metadata": {},
   "source": [
    "### GenTrace \n",
    "Gera um possível traço de execução com  𝑛  transições."
   ]
  },
  {
   "cell_type": "code",
   "execution_count": 34,
   "id": "7a4c396a",
   "metadata": {},
   "outputs": [],
   "source": [
    "def genTrace(vars,init,trans,error,n):\n",
    "    with Solver(name=\"z3\") as s:\n",
    "        \n",
    "        X = [genState(vars,'X',i) for i in range(n+1)]# cria n+1 estados (com etiqueta X)\n",
    "        #print(X)   \n",
    "        I = init(X[0])\n",
    "        #print(I)\n",
    "        #print()\n",
    "        \n",
    "        Tks = [ trans(X[i],X[i+1]) for i in range(n) ]\n",
    "        #print(trans1(X[0],X[1]))\n",
    "            \n",
    "        #print()\n",
    "        #print(Tks)\n",
    "        #print('ola')\n",
    "        \n",
    "        if s.solve([I,And(Tks)]):      # testa se I /\\ T^n  é satisfazível\n",
    "            for i in range(n):\n",
    "                print(\"Estado:\",i)\n",
    "                for v in X[i]:\n",
    "                    print(\"          \",v,'=',s.get_value(X[i][v]))\n",
    "        "
   ]
  },
  {
   "cell_type": "code",
   "execution_count": 35,
   "id": "d7ae8642",
   "metadata": {},
   "outputs": [
    {
     "name": "stdout",
     "output_type": "stream",
     "text": [
      "Estado: 0\n",
      "           x = 3_5\n",
      "           y = 7_5\n",
      "           z = 0_5\n",
      "           pc = 0_5\n",
      "Estado: 1\n",
      "           x = 3_5\n",
      "           y = 7_5\n",
      "           z = 0_5\n",
      "           pc = 2_5\n",
      "Estado: 2\n",
      "           x = 3_5\n",
      "           y = 6_5\n",
      "           z = 3_5\n",
      "           pc = 0_5\n",
      "Estado: 3\n",
      "           x = 3_5\n",
      "           y = 6_5\n",
      "           z = 3_5\n",
      "           pc = 1_5\n",
      "Estado: 4\n",
      "           x = 6_5\n",
      "           y = 3_5\n",
      "           z = 3_5\n",
      "           pc = 0_5\n",
      "Estado: 5\n",
      "           x = 6_5\n",
      "           y = 3_5\n",
      "           z = 3_5\n",
      "           pc = 2_5\n",
      "Estado: 6\n",
      "           x = 6_5\n",
      "           y = 2_5\n",
      "           z = 9_5\n",
      "           pc = 0_5\n",
      "Estado: 7\n",
      "           x = 6_5\n",
      "           y = 2_5\n",
      "           z = 9_5\n",
      "           pc = 1_5\n",
      "Estado: 8\n",
      "           x = 12_5\n",
      "           y = 1_5\n",
      "           z = 9_5\n",
      "           pc = 0_5\n",
      "Estado: 9\n",
      "           x = 12_5\n",
      "           y = 1_5\n",
      "           z = 9_5\n",
      "           pc = 2_5\n",
      "Estado: 10\n",
      "           x = 12_5\n",
      "           y = 0_5\n",
      "           z = 21_5\n",
      "           pc = 0_5\n",
      "Estado: 11\n",
      "           x = 12_5\n",
      "           y = 0_5\n",
      "           z = 21_5\n",
      "           pc = 3_5\n",
      "Estado: 12\n",
      "           x = 12_5\n",
      "           y = 0_5\n",
      "           z = 21_5\n",
      "           pc = 3_5\n",
      "Estado: 13\n",
      "           x = 12_5\n",
      "           y = 0_5\n",
      "           z = 21_5\n",
      "           pc = 3_5\n",
      "Estado: 14\n",
      "           x = 12_5\n",
      "           y = 0_5\n",
      "           z = 21_5\n",
      "           pc = 3_5\n",
      "Estado: 15\n",
      "           x = 12_5\n",
      "           y = 0_5\n",
      "           z = 21_5\n",
      "           pc = 3_5\n",
      "Estado: 16\n",
      "           x = 12_5\n",
      "           y = 0_5\n",
      "           z = 21_5\n",
      "           pc = 3_5\n",
      "Estado: 17\n",
      "           x = 12_5\n",
      "           y = 0_5\n",
      "           z = 21_5\n",
      "           pc = 3_5\n",
      "Estado: 18\n",
      "           x = 12_5\n",
      "           y = 0_5\n",
      "           z = 21_5\n",
      "           pc = 3_5\n",
      "Estado: 19\n",
      "           x = 12_5\n",
      "           y = 0_5\n",
      "           z = 21_5\n",
      "           pc = 3_5\n"
     ]
    }
   ],
   "source": [
    "genTrace(['x','y','z','pc'],init1,trans1,error1,20)"
   ]
  },
  {
   "cell_type": "markdown",
   "id": "cac6b0f3",
   "metadata": {},
   "source": [
    "Para auxiliar na implementação deste algoritmo, definimos as funções seguintes funções:\n",
    "1. ${rename}$: renomeia uma fórmula (sobre um estado) de acordo com um dado estado. \n",
    "2. ${same}$: testa se dois estados são iguais."
   ]
  },
  {
   "cell_type": "code",
   "execution_count": 36,
   "id": "8ff942cd",
   "metadata": {},
   "outputs": [],
   "source": [
    "def baseName(s):\n",
    "    return ''.join(list(itertools.takewhile(lambda x: x!='!', s)))\n",
    "\n",
    "def rename(form,state):\n",
    "    vs = get_free_variables(form)\n",
    "    pairs = [ (x,state[baseName(x.symbol_name())]) for x in vs ]\n",
    "    return form.substitute(dict(pairs))\n",
    "\n",
    "def same(state1,state2):\n",
    "    return And([Equals(state1[x],state2[x]) for x in state1])"
   ]
  },
  {
   "cell_type": "markdown",
   "id": "425fcd10",
   "metadata": {},
   "source": [
    "### Função invert\n",
    "Recebe a função python que codifica a relação de transição e devolve a relação e transição inversa."
   ]
  },
  {
   "cell_type": "code",
   "execution_count": 37,
   "id": "d9ab7414",
   "metadata": {},
   "outputs": [],
   "source": [
    "def invert(trans1):\n",
    "    return (lambda u, v : trans1(v,u))"
   ]
  },
  {
   "cell_type": "markdown",
   "id": "244181bc",
   "metadata": {},
   "source": [
    "### Algoritmo de Model Checking"
   ]
  },
  {
   "cell_type": "code",
   "execution_count": 38,
   "id": "0789421f",
   "metadata": {
    "scrolled": true
   },
   "outputs": [
    {
     "name": "stdout",
     "output_type": "stream",
     "text": [
      "safe\n"
     ]
    }
   ],
   "source": [
    "def model_checking(vars,init,trans,error,N,M):\n",
    "    \n",
    "    with Solver(name=\"z3\") as s:\n",
    "\n",
    "        # Criar todos os estados que poderão vir a ser necessários.\n",
    "        X = [genState(vars,'X',i) for i in range(N+1)]\n",
    "        #print(X)\n",
    "        Y = [genState(vars,'Y',i) for i in range(M+1)]\n",
    "        #print(Y)\n",
    "\n",
    "\n",
    "        # Estabelecer a ordem pela qual os pares (n,m) vão surgir. Por exemplo:\n",
    "        order = sorted([(a,b) for a in range(1,N+1) for b in range(1,M+1)],key=lambda tup:tup[0]+tup[1]) \n",
    "            \n",
    "        #print(order)\n",
    "        #print(len(order))\n",
    "       \n",
    "        for (n,m) in order:\n",
    "            #print (order)\n",
    "            #print (n)\n",
    "\n",
    "            I = init(X[0])\n",
    "            #print(I)\n",
    "\n",
    "            Tn = And([trans(X[i],X[i+1]) for i in range(n)])\n",
    "            #print(Tn)\n",
    "\n",
    "            Rn = And(I,Tn)\n",
    "            #print(Rn)\n",
    "\n",
    "            E = error(Y[0])\n",
    "            #print(E)\n",
    "\n",
    "            Bm = And([invert(trans)(X[i],X[i+1]) for i in range(n)])\n",
    "            #print(Bm)\n",
    "\n",
    "            Um = And(E,Bm)\n",
    "            #print(Um)\n",
    "\n",
    "\n",
    "            Vnm = And(Rn,same(X[n],Y[m]),Um)\n",
    "\n",
    "            #print(Vnm)\n",
    "\n",
    "            if s.solve([Vnm]):\n",
    "                print('unsafe')\n",
    "                return\n",
    "\n",
    "            C = binary_interpolant(And(Rn,same(X[n],Y[m])),Um) \n",
    "            if C is None:                          # Vnm insatisfazível\n",
    "                print('interpolante None\\n')\n",
    "                while TRUE: #não aceita outros indices\n",
    "                    escolha = input(\"Deseja incrementar o índice n ou m?: \")\n",
    "                    if (escolha==\"n\"):\n",
    "                        n=n+1\n",
    "                        print(\"> Valor de n alterado para: n=\",n)\n",
    "                        break\n",
    "                    elif(escolha== \"m\"):\n",
    "                        m=m+1\n",
    "                        print(\"> Valor de m alterado para: m=\",m)\n",
    "                        break\n",
    "            \n",
    "            C0 = rename(C,X[0])\n",
    "            C1 = rename(C,X[1])\n",
    "            \n",
    "            T = trans(X[0], X[1])               \n",
    "\n",
    "            if not s.solve([C0,T,Not(C1)]):         # C é invariante de T\n",
    "                print('safe')\n",
    "                return\n",
    "            else:                                   # tenta gerar o majorante S\n",
    "                S = rename(C,X[n])\n",
    "                while True:\n",
    "                    A = And(S,trans(X[n],Y[n]))\n",
    "                    if s.solve([A,Um]):\n",
    "                        print('Não foi possivel encontrar majorante.')\n",
    "                        break\n",
    "                    else:\n",
    "                        Cnew = binary_interpolant(A,Um)\n",
    "                        Cn = rename(Cnew,X[n])\n",
    "                        if s.solve([Cn,Not(S)]):     # se Cn->S não é tautologia\n",
    "                            S = Or(S,Cn) \n",
    "                        else:\n",
    "                            print('safe')\n",
    "                            return\n",
    "            \n",
    "        print('unknown')\n",
    "\n",
    "model_checking(['x','y','z','pc'], init1, trans1, error1, 20, 20)            "
   ]
  }
 ],
 "metadata": {
  "kernelspec": {
   "display_name": "Python 3 (ipykernel)",
   "language": "python",
   "name": "python3"
  },
  "language_info": {
   "codemirror_mode": {
    "name": "ipython",
    "version": 3
   },
   "file_extension": ".py",
   "mimetype": "text/x-python",
   "name": "python",
   "nbconvert_exporter": "python",
   "pygments_lexer": "ipython3",
   "version": "3.10.8"
  }
 },
 "nbformat": 4,
 "nbformat_minor": 5
}
