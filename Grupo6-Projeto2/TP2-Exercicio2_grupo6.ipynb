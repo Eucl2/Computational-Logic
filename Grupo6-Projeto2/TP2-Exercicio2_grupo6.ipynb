{
 "cells": [
  {
   "cell_type": "markdown",
   "id": "ee76e6f7",
   "metadata": {},
   "source": [
    "# TP2 - Trabalho 2"
   ]
  },
  {
   "cell_type": "markdown",
   "id": "0379b745",
   "metadata": {},
   "source": [
    "14 de novembro de 2022"
   ]
  },
  {
   "cell_type": "markdown",
   "id": "386f7b56",
   "metadata": {},
   "source": [
    "André Oliveira Barbosa - A91684\n",
    "Francisco Antonio Borges Paulino - A91666"
   ]
  },
  {
   "cell_type": "markdown",
   "id": "758151ed",
   "metadata": {},
   "source": [
    "## Caso de estudo"
   ]
  },
  {
   "cell_type": "markdown",
   "id": "8c5fbbef",
   "metadata": {},
   "source": [
    "O objetivo deste problema é modificar as regras do autómato do Conway’s Game of Life da seguinte forma:\n",
    "\n",
    "1. O espaço de estados é finito definido por uma grelha de células booleanas (morta=0/viva=1) de dimensão $\\,N\\times N\\,$ (com $N>3$) identificadas por índices $\\,(i,j)\\in \\{1..N\\}$.  Estas $\\;N^2\\;$ células são aqui referidas como “normais”. \n",
    "2. No estado inicial todas as células normais estão mortas excepto  um quadrado $\\,3\\times 3\\,$, designado por “centro”, aleatoriamente posicionado formado apenas por células vivas.\n",
    "3. Adicionalmente existem $\\,2\\,N+1\\,$ “células da borda” que correspondem a um dos índices, $i$ ou $j$, ser zero. As células da borda têm valores constantes que, no estado inicial, são gerados aleatoriamente com uma probabilidade $\\,\\rho\\,$ de estarem vivas.\n",
    "4. As células normais o autómato modificam o estado de acordo com a regra “B3/S23”: i.e. a célula nasce (passa de $0$ a $1$) se tem exatamente 3 vizinhos vivos e sobrevive (mantém-se viva) se o número de vizinhos vivos é 2 ou 3, caso contrário morre ou continua morta."
   ]
  },
  {
   "cell_type": "markdown",
   "id": "aabae29e",
   "metadata": {},
   "source": [
    "# Análise do Problema"
   ]
  },
  {
   "cell_type": "markdown",
   "id": "1e599ccb",
   "metadata": {},
   "source": [
    "\n",
    "Procura-se:\n",
    "   \n",
    "   1. Construir uma máquina de estados finita que represente este autómato; são parâmetros do problema os parâmetros N,p  e a posição do  “centro”.\n",
    "   2. Verificar se se conseguem provar as seguintes propriedades:\n",
    "   a) Todos os estados acessíveis contém pelo menos uma célula viva.\n",
    "   b) Toda a célula normal está viva pelo menos uma vez em algum estado acessível."
   ]
  },
  {
   "cell_type": "markdown",
   "id": "2f048c66",
   "metadata": {},
   "source": [
    "# Inicialização"
   ]
  },
  {
   "cell_type": "code",
   "execution_count": 25,
   "id": "561fc26f",
   "metadata": {},
   "outputs": [],
   "source": [
    "import numpy as np\n",
    "import matplotlib.pyplot as plt\n",
    "from IPython.display import clear_output\n",
    "from random import randint\n",
    "import random"
   ]
  },
  {
   "cell_type": "markdown",
   "id": "b91b0ff6",
   "metadata": {},
   "source": [
    "# Implementação"
   ]
  },
  {
   "cell_type": "markdown",
   "id": "ee032803",
   "metadata": {},
   "source": [
    "### Geração de Matriz bidimensional"
   ]
  },
  {
   "cell_type": "code",
   "execution_count": 19,
   "id": "3c83d0af",
   "metadata": {},
   "outputs": [],
   "source": [
    "Mlinhas = 100\n",
    "\n",
    "Mcolunas = 100\n",
    "\n",
    "matriz = np.zeros([Mlinhas, Mcolunas])"
   ]
  },
  {
   "cell_type": "markdown",
   "id": "20bb69f5",
   "metadata": {},
   "source": [
    "### Geração das condições iniciais"
   ]
  },
  {
   "cell_type": "code",
   "execution_count": 26,
   "id": "f950951b",
   "metadata": {},
   "outputs": [
    {
     "name": "stdout",
     "output_type": "stream",
     "text": [
      "8\n",
      "24\n"
     ]
    }
   ],
   "source": [
    "np.random.seed(100)\n",
    "\n",
    "\n",
    "NC_vivas = 9 #quadrado 3x3\n",
    "\n",
    "# selecionar linhas e colunas aleatoriamente\n",
    "linha_seeds = np.random.randint(0, matriz.shape[0])\n",
    "col_seeds = np.random.randint(0, matriz.shape[1])\n",
    "print(linha_seeds)\n",
    "print(col_seeds)\n",
    "\n",
    "l_inicial=linha_seeds\n",
    "c_inicial=col_seeds\n",
    "c= NC_vivas\n",
    "comp_linha=3\n",
    "\n",
    "#formar o quadrado 3x3 com celulas vivas\n",
    "while (c):\n",
    "    if(comp_linha>0):\n",
    "        matriz[l_inicial,c_inicial] = 1\n",
    "        l_inicial = l_inicial + 1\n",
    "        comp_linha= comp_linha - 1\n",
    "        c=c-1\n",
    "    else:\n",
    "        l_inicial=linha_seeds\n",
    "        c_inicial=c_inicial + 1\n",
    "        comp_linha = 3"
   ]
  },
  {
   "cell_type": "markdown",
   "id": "b45313e5",
   "metadata": {},
   "source": [
    "# Células da Borda"
   ]
  },
  {
   "cell_type": "markdown",
   "id": "a002c739",
   "metadata": {},
   "source": [
    "Probabilidade = p = 60%"
   ]
  },
  {
   "cell_type": "code",
   "execution_count": 21,
   "id": "6c3232cf",
   "metadata": {},
   "outputs": [
    {
     "name": "stdout",
     "output_type": "stream",
     "text": [
      "-   90 0\n",
      "-   59 0\n",
      "-   72 0\n",
      "-   0 61\n",
      "-   0 35\n",
      "-   89 0\n",
      "-   0 39\n",
      "-   0 65\n",
      "-   35 0\n",
      "-   0 80\n",
      "-   0 81\n",
      "-   93 0\n",
      "-   34 0\n",
      "-   0 0\n",
      "-   29 0\n",
      "-   77 0\n",
      "-   0 32\n",
      "-   0 55\n",
      "-   0 88\n",
      "-   0 57\n",
      "-   0 57\n",
      "-   25 0\n",
      "-   22 0\n",
      "-   0 94\n",
      "-   0 65\n",
      "-   0 63\n",
      "-   0 81\n",
      "-   45 0\n",
      "-   0 12\n",
      "-   0 83\n",
      "-   87 0\n",
      "-   26 0\n",
      "-   79 0\n",
      "-   0 48\n",
      "-   95 0\n",
      "-   57 0\n",
      "-   28 0\n",
      "-   0 97\n",
      "-   0 32\n",
      "-   0 87\n",
      "-   71 0\n",
      "-   66 0\n",
      "-   49 0\n",
      "-   0 43\n",
      "-   0 31\n",
      "-   9 0\n",
      "-   59 0\n",
      "-   0 6\n",
      "-   0 31\n",
      "-   0 61\n",
      "-   85 0\n",
      "-   93 0\n",
      "-   0 7\n",
      "-   59 0\n",
      "-   47 0\n",
      "-   48 0\n",
      "-   0 83\n",
      "-   0 0\n",
      "-   97 0\n",
      "-   0 2\n",
      "-   0 47\n",
      "-   0 72\n",
      "-   54 0\n",
      "-   0 0\n",
      "-   98 0\n",
      "-   29 0\n",
      "-   0 25\n",
      "-   6 0\n",
      "-   0 67\n",
      "-   12 0\n",
      "-   0 36\n",
      "-   0 95\n",
      "-   58 0\n",
      "-   42 0\n",
      "-   81 0\n",
      "-   31 0\n",
      "-   0 35\n",
      "-   16 0\n",
      "-   85 0\n",
      "-   0 18\n",
      "-   0 49\n",
      "-   0 41\n",
      "-   69 0\n",
      "-   0 72\n",
      "-   51 0\n",
      "-   0 83\n",
      "-   9 0\n",
      "-   58 0\n",
      "-   0 81\n",
      "-   31 0\n",
      "-   0 27\n",
      "-   23 0\n",
      "-   0 66\n",
      "-   91 0\n",
      "-   0 26\n",
      "-   16 0\n",
      "-   77 0\n",
      "-   0 84\n",
      "-   0 76\n",
      "-   0 56\n",
      "-   21 0\n",
      "-   15 0\n",
      "-   69 0\n",
      "-   92 0\n",
      "-   55 0\n",
      "-   0 13\n",
      "-   0 8\n",
      "-   92 0\n",
      "-   0 93\n",
      "-   85 0\n",
      "-   0 0\n",
      "-   55 0\n",
      "-   0 39\n",
      "-   31 0\n",
      "-   0 13\n",
      "\n",
      "Número de celulas da borda vivas: 115\n"
     ]
    }
   ],
   "source": [
    "n_Cborda = 2*100+1 # 2N+1 células da borda\n",
    "prob_ro=60\n",
    "ctr=0\n",
    "while (n_Cborda>0):\n",
    "    i = random.randint(0, 1)\n",
    "    if (i==0): \n",
    "        j=random.randint(0, matriz.shape[1]-1)\n",
    "    else:\n",
    "        j=0\n",
    "        i=random.randint(0, matriz.shape[1]-1)\n",
    "    \n",
    "    if random.randint(0,100) < prob_ro:\n",
    "        matriz[i,j] = 1\n",
    "        print(\"-  \", i,j)\n",
    "        ctr=ctr+1\n",
    "    n_Cborda=n_Cborda-1\n",
    "print(\"\\nNúmero de celulas da borda vivas:\", ctr)"
   ]
  },
  {
   "cell_type": "code",
   "execution_count": 22,
   "id": "fe6ef3c3",
   "metadata": {},
   "outputs": [
    {
     "data": {
      "image/png": "[encoded data removed]",
      "text/plain": [
       "<Figure size 640x480 with 1 Axes>"
      ]
     },
     "metadata": {},
     "output_type": "display_data"
    }
   ],
   "source": [
    "#verificação das condiçoes iniciais\n",
    "plt.pcolormesh(matriz)\n",
    "plt.axis('on')\n",
    "plt.show()"
   ]
  },
  {
   "cell_type": "code",
   "execution_count": 23,
   "id": "4cae8bce",
   "metadata": {},
   "outputs": [],
   "source": [
    "#células vizinhas\n",
    "viz_linhas = np.array([-1, -1, -1, 0, 0, 1, 1, 1])\n",
    "viz_cols = np.array([-1, 0, 1, -1, 1, -1, 0, 1])"
   ]
  },
  {
   "cell_type": "markdown",
   "id": "1ecb797b",
   "metadata": {},
   "source": [
    "### Definição das regras"
   ]
  },
  {
   "cell_type": "code",
   "execution_count": 24,
   "id": "81211a40",
   "metadata": {
    "scrolled": false
   },
   "outputs": [
    {
     "data": {
      "image/png": "[encoded data removed]",
      "text/plain": [
       "<Figure size 640x480 with 1 Axes>"
      ]
     },
     "metadata": {},
     "output_type": "display_data"
    }
   ],
   "source": [
    "dias = 100\n",
    "\n",
    "\n",
    "while(dias): #dias>0\n",
    "\n",
    "    clear_output(wait=True)\n",
    "    plt.pcolormesh(matriz, cmap='gray')\n",
    "    plt.show()\n",
    "   \n",
    "    M_nova = np.zeros([Mlinhas,Mcolunas]) #guarda os resultados para a geração seguinte\n",
    "    \n",
    "    for l in range(1, matriz.shape[0]-1):\n",
    "        for col in range(1, matriz.shape[1]-1):\n",
    "            \n",
    "            #soma dos vizinhos de forma a conseguir verificar a geração seguinte\n",
    "            soma = matriz[l + viz_linhas, col + viz_cols].sum()\n",
    "            \n",
    "            # célula atual vive ou morre?\n",
    "            if matriz[l,col] == 1:\n",
    "                \n",
    "                # menos de 2 vizinhos = morte\n",
    "                if  soma < 2:\n",
    "                    M_nova[l,col] = 0\n",
    "               \n",
    "                #2 ou 3 vizinhos = vive\n",
    "                elif soma == 2 or soma == 3:\n",
    "                    M_nova[l,col] = 1\n",
    "                    \n",
    "                #mais de 3 vizinhos= morte\n",
    "                elif soma > 3:\n",
    "                    M_nova[l,col] = 0\n",
    "            else:\n",
    "                \n",
    "                # 3 vizinhos torna-se viva\n",
    "                if soma == 3:\n",
    "                    M_nova[l,col] = 1\n",
    "    #diminuir dias no loop\n",
    "    dias=dias-1\n",
    "    \n",
    "    #proxima geração\n",
    "    matriz = M_nova\n",
    "    #print(dias)\n"
   ]
  },
  {
   "cell_type": "markdown",
   "id": "4e8792a8",
   "metadata": {},
   "source": [
    "### Criação do automato de Conway’s Game of Life"
   ]
  },
  {
   "cell_type": "markdown",
   "id": "e23ec569",
   "metadata": {},
   "source": [
    "##### O autómato:"
   ]
  },
  {
   "cell_type": "markdown",
   "id": "9b07af83",
   "metadata": {},
   "source": [
    "<img src='automatoEx2.png' width=\"599\" height=\"599\">"
   ]
  },
  {
   "cell_type": "code",
   "execution_count": 15,
   "id": "23bd9b59",
   "metadata": {},
   "outputs": [],
   "source": [
    "from pysmt.shortcuts import *\n",
    "from pysmt.typing import INT"
   ]
  },
  {
   "cell_type": "markdown",
   "id": "3a5949b6",
   "metadata": {},
   "source": [
    "O estado dos FOTS sera um conjunto de inteiros contendo o valor pc, o segundo o valor da variavel x, o terceiro o valor da variavel y e o quarto do valor da variavel z. O estado inicial é caracterizado pelo seguinte perdicado:\n",
    "\n",
    "$$ pc=0 \\land N=100 \\land ρ=60\\% \\land D=dias \\land cl=linha\\_seeds \\land cc=col\\_seeds \\land l=1 \\land col=1 \\land viz\\_linhas=[-1, -1, -1, 0, 0, 1, 1, 1] \\land viz\\_cols=[-1, 0, 1, -1, 1, -1, 0, 1] \\land sum=0 \\land matriz=[N,N] $$\n",
    "\n",
    "\n",
    "\n",
    "As transições possiveis no FOTS para o programa em questão são:\n",
    "\n",
    "$$ (pc = 0 \\land pc'= 1 \\land N'=N \\land ρ'=ρ \\land D'=D \\land cl'=cl \\land cc'=cc \\land l'=l \\land col'=col \\land viz\\_linhas'=viz\\_linhas \\land viz\\_cols'=viz\\_cols \\land sum'=sum \\land matriz'=matriz)$$\n",
    "$$\\lor$$\n",
    "$$ (pc = 1 \\land D!=0 \\land pc'= 2 \\land D'=D \\land cl'=cl \\land cc'=cc \\land l'=l \\land col'=col \\land viz\\_linhas'=viz\\_linhas \\land viz\\_cols'=viz\\_cols \\land sum'=sum \\land matriz'=matriz)$$\n",
    "$$\\lor$$\n",
    "$$ (pc = 1 \\land D=0 \\land pc'= 11 \\land N'=N \\land ρ'=ρ \\land D'=D \\land cl'=cl \\land cc'=cc \\land l'=l \\land col'=col \\land viz\\_linhas'=viz\\_linhas \\land viz\\_cols'=viz\\_cols \\land sum'=sum \\land matriz'=matriz)$$\n",
    "$$\\lor$$\n",
    "$$ (pc = 2 \\land pc'= 3 \\land D'=D \\land cl'=cl \\land cc'=cc \\land l'=l \\land col'=col \\land viz\\_linhas'=viz\\_linhas \\land viz\\_cols'=viz\\_cols \\land sum'=sum \\land matriz'=matriz)$$\n",
    "$$\\lor$$\n",
    "$$ (pc = 3 \\land pc'=4 \\land D'=D \\land cl'=cl \\land cc'=cc \\land l'=l \\land col'=col \\land viz\\_linhas'=viz\\_linhas \\land viz\\_cols'=viz\\_cols \\land sum'=sum+matriz[l + viz\\_linhas, col + viz\\_cols] \\land matriz'=matriz)$$\n",
    "$$\\lor$$\n",
    "$$ (pc = 4 \\land matriz[l,col]=1 \\land pc'=5 \\land D'=D \\land cl'=cl \\land cc'=cc \\land l'=l \\land col'=col \\land viz\\_linhas'=viz\\_linhas \\land viz\\_cols'=viz\\_cols \\land sum'=sum \\land matriz'=matriz)$$\n",
    "$$\\lor$$\n",
    "$$ (pc = 4 \\land matriz[l,col]=0 \\land pc'=9 \\land D'=D \\land cl'=cl \\land cc'=cc \\land l'=l \\land col'=col \\land viz\\_linhas'=viz\\_linhas \\land viz\\_cols'=viz\\_cols \\land sum'=sum \\land matriz'=matriz)$$\n",
    "$$\\lor$$\n",
    "$$ (pc = 5 \\land sum < 2 \\land pc'=6 \\land D'=D \\land cl'=cl \\land cc'=cc \\land l'=l \\land col'=col \\land viz\\_linhas'=viz\\_linhas \\land viz\\_cols'=viz\\_cols \\land sum'=sum \\land matriz'=matriz[l,col]=0)$$\n",
    "$$\\lor$$\n",
    "$$ (pc = 5 \\land (sum=2 \\lor sum =3) \\land pc'=7 \\land D'=D \\land cl'=cl \\land cc'=cc \\land l'=l \\land col'=col \\land viz\\_linhas'=viz\\_linhas \\land viz\\_cols'=viz\\_cols \\land sum'=sum \\land matriz'=matriz[l,col]=1)$$\n",
    "$$\\lor$$\n",
    "$$ (pc = 5 \\land sum >3 2 \\land pc'=8 \\land D'=D \\land cl'=cl \\land cc'=cc \\land l'=l \\land col'=col \\land viz\\_linhas'=viz\\_linhas \\land viz\\_cols'=viz\\_cols \\land sum'=sum \\land matriz'=matriz[l,col]=0)$$\n",
    "$$\\lor$$\n",
    "$$ (pc = 6  \\land pc'=2 \\land D'=D \\land cl'=cl \\land cc'=cc \\land l'=l+1 \\land col'=col+1 \\land viz\\_linhas'=viz\\_linhas \\land viz\\_cols'=viz\\_cols \\land sum'=0 \\land matriz'=matriz)$$\n",
    "$$\\lor$$\n",
    "$$ (pc = 7  \\land pc'=2 \\land D'=D \\land cl'=cl \\land cc'=cc \\land l'=l+1 \\land col'=col+1 \\land viz\\_linhas'=viz\\_linhas \\land viz\\_cols'=viz\\_cols \\land sum'=0 \\land matriz'=matriz)$$\n",
    "$$\\lor$$\n",
    "$$ (pc = 8  \\land pc'=2 \\land D'=D \\land cl'=cl \\land cc'=cc \\land l'=l+1 \\land col'=col+1 \\land viz\\_linhas'=viz\\_linhas \\land viz\\_cols'=viz\\_cols \\land sum'=0 \\land matriz'=matriz)$$\n",
    "$$\\lor$$\n",
    "$$ (pc = 9 \\land sum < 3 \\land pc'=2 \\land D'=D \\land cl'=cl \\land cc'=cc \\land l'=l+1 \\land col'=col+1 \\land viz\\_linhas'=viz\\_linhas \\land viz\\_cols'=viz\\_cols \\land sum'=0 \\land matriz'=matriz)$$\n",
    "$$\\lor$$\n",
    "$$ (pc = 9 \\land sum = 3 \\land pc'=10 \\land D'=D \\land cl'=cl \\land cc'=cc \\land l'=l \\land col'=col \\land viz\\_linhas'=viz\\_linhas \\land viz\\_cols'=viz\\_cols \\land sum'=sum \\land matriz'=matriz[l,col]=1)$$\n",
    "$$\\lor$$\n",
    "$$ (pc = 10 \\land pc'=2 \\land D'=D \\land cl'=cl \\land cc'=cc \\land l'=l+1 \\land col'=col+1 \\land viz\\_linhas'=viz\\_linhas \\land viz\\_cols'=viz\\_cols \\land sum'=0 \\land matriz'=matriz)$$\n",
    "$$\\lor$$\n",
    "$$ (pc = 2 \\land (l > 100 \\lor col >100) \\land pc'=1 \\land D'=D-1 \\land cl'=cl \\land cc'=cc \\land l'=l \\land col'=col \\land viz\\_linhas'=viz\\_linhas \\land viz\\_cols'=viz\\_cols \\land sum'=sum \\land matriz'=matriz)$$\n",
    "$$\\lor$$\n",
    "$$ (pc = 11  \\land pc'= 11 \\land N'=N \\land ρ'=ρ \\land D'=D \\land cl'=cl \\land cc'=cc \\land l'=l \\land col'=col \\land viz\\_linhas'=viz\\_linhas \\land viz\\_cols'=viz\\_cols \\land sum'=sum \\land matriz'=matriz)$$\n",
    "$$\\lor$$"
   ]
  },
  {
   "cell_type": "code",
   "execution_count": 16,
   "id": "5ce4a9a4",
   "metadata": {},
   "outputs": [],
   "source": [
    "def declare(i):\n",
    "    state = {}\n",
    "    state['pc'] = Symbol('pc'+str(i),INT)\n",
    "    state['N'] = Symbol('N'+str(i),INT)\n",
    "    state['ρ'] = Symbol('ρ'+str(i),INT)\n",
    "    state['D'] = Symbol('D'+str(i),INT)\n",
    "    state['cl'] = Symbol('cl'+str(i),INT)\n",
    "    state['cc'] = Symbol('cc'+str(i),INT)\n",
    "    state['l'] = Symbol('l'+str(i),INT)\n",
    "    state['col'] = Symbol('col'+str(i),INT)\n",
    "    state['viz_linhas'] = Symbol('viz_linhas'+str(i),INT)\n",
    "    state['viz_cols'] = Symbol('viz_cols'+str(i),INT)\n",
    "    state['sum'] = Symbol('sum'+str(i),INT)\n",
    "    state['matriz'] = Symbol('matriz'+str(i),Array)\n",
    "    \n",
    "    return state"
   ]
  },
  {
   "cell_type": "code",
   "execution_count": 17,
   "id": "b06e0ca8",
   "metadata": {},
   "outputs": [],
   "source": [
    "def init(state):\n",
    "    return And(Equals(state['pc'], Int(0)), Equals(state['N'], Int(100)), \n",
    "               Equals(state['ρ'], Int(60)), Equals(state['D'], Int(100)),\n",
    "               Equals(state['cl'], Int(8)),Equals(state['cc'], Int(24)), \n",
    "               Equals(state['l'], Int(1)),Equals(state['col'], Int(1)), \n",
    "               Equals(state['viz_linhas'], Array([-1, -1, -1, 0, 0, 1, 1, 1])),\n",
    "               Equals(state['viz_cols'], Array([-1, 0, 1, -1, 1, -1, 0, 1])), Equals(state['sum'], Int(0)),\n",
    "               Equals(state['matriz'],Array([100,100])))"
   ]
  },
  {
   "cell_type": "code",
   "execution_count": null,
   "id": "35c5c36a",
   "metadata": {},
   "outputs": [],
   "source": []
  }
 ],
 "metadata": {
  "kernelspec": {
   "display_name": "Python 3 (ipykernel)",
   "language": "python",
   "name": "python3"
  },
  "language_info": {
   "codemirror_mode": {
    "name": "ipython",
    "version": 3
   },
   "file_extension": ".py",
   "mimetype": "text/x-python",
   "name": "python",
   "nbconvert_exporter": "python",
   "pygments_lexer": "ipython3",
   "version": "3.10.4"
  }
 },
 "nbformat": 4,
 "nbformat_minor": 5
}
