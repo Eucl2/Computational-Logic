{
 "cells": [
  {
   "cell_type": "markdown",
   "id": "1ff009b2",
   "metadata": {},
   "source": [
    "# TP2 - Trabalho 1 "
   ]
  },
  {
   "cell_type": "markdown",
   "id": "0be2c377",
   "metadata": {},
   "source": [
    "11 de novembro de 2022"
   ]
  },
  {
   "cell_type": "markdown",
   "id": "45ede7b8",
   "metadata": {},
   "source": [
    "André Oliveira Barbosa - A91684\n",
    "Francisco Antonio Borges Paulino - A91666"
   ]
  },
  {
   "cell_type": "markdown",
   "id": "3465df37",
   "metadata": {},
   "source": [
    "## Caso de estudo"
   ]
  },
  {
   "cell_type": "markdown",
   "id": "b965f924",
   "metadata": {},
   "source": [
    "<img src='im2.png' width=\"599\" height=\"599\">"
   ]
  },
  {
   "cell_type": "markdown",
   "id": "57f3c276",
   "metadata": {},
   "source": [
    "## Análise do Problema"
   ]
  },
  {
   "cell_type": "markdown",
   "id": "42cee528",
   "metadata": {},
   "source": [
    "É possivel verificar que ao longo do programa: \n",
    "\n",
    "    . Existe a possibilidade de alguma das operações do programa produzir um erro de “overflow”;\n",
    "    \n",
    "    . Os nós do grafo representam ações  que actuam sobre os “inputs” do nó e produzem um “output” \n",
    "      com as operações indicadas ;\n",
    "\n",
    "    . Os ramos do grafo representam ligações que transferem o “output” de um nodo para o “input” do \n",
    "      nodo seguinte. Esta transferência é condicionada pela satisfação da condição associada ao ramo ."
   ]
  },
  {
   "cell_type": "markdown",
   "id": "dd833e1c",
   "metadata": {},
   "source": [
    "## Inicialização"
   ]
  },
  {
   "cell_type": "code",
   "execution_count": 2,
   "id": "f5a96f29",
   "metadata": {},
   "outputs": [
    {
     "name": "stdout",
     "output_type": "stream",
     "text": [
      "Requirement already satisfied: ortools in c:\\users\\andre\\anaconda3\\envs\\logica\\lib\\site-packages (9.4.1874)\n",
      "Requirement already satisfied: protobuf>=3.19.4 in c:\\users\\andre\\anaconda3\\envs\\logica\\lib\\site-packages (from ortools) (4.21.6)\n",
      "Requirement already satisfied: numpy>=1.13.3 in c:\\users\\andre\\anaconda3\\envs\\logica\\lib\\site-packages (from ortools) (1.23.3)\n",
      "Requirement already satisfied: absl-py>=0.13 in c:\\users\\andre\\anaconda3\\envs\\logica\\lib\\site-packages (from ortools) (1.2.0)\n"
     ]
    }
   ],
   "source": [
    "!pip install ortools"
   ]
  },
  {
   "cell_type": "markdown",
   "id": "2f61c4fe",
   "metadata": {},
   "source": [
    "## Implementação"
   ]
  },
  {
   "cell_type": "markdown",
   "id": "1854d1ca",
   "metadata": {},
   "source": [
    "Começamos por importar o módulo pysmt.shortcuts que oferece uma API simplificada que disponibiliza as funcionalidades para a utilização usual de um SMT solver. Os tipos estão definidos no módulo pysmt.typing de onde temos que importar o tipo INT e BVType.\n"
   ]
  },
  {
   "cell_type": "code",
   "execution_count": 3,
   "id": "b959f6f4",
   "metadata": {},
   "outputs": [],
   "source": [
    "from pysmt.shortcuts import *\n",
    "from pysmt.typing import INT\n",
    "from pysmt.typing import BVType"
   ]
  },
  {
   "cell_type": "code",
   "execution_count": 4,
   "id": "d7edbfa9",
   "metadata": {},
   "outputs": [],
   "source": [
    "a=2\n",
    "b=21\n",
    "n=32\n",
    "#print(n)"
   ]
  },
  {
   "cell_type": "markdown",
   "id": "07b2c5e5",
   "metadata": {},
   "source": [
    "Para modelarmos o programa em questão através do FOTS iremos definir:\n",
    "\n",
    "    . O estado é constituído pelas variáveis do programa mais uma variável para o respectivo program counter;\n",
    "    \n",
    "    . Os nós do grafo representam ações  que actuam sobre os “inputs” do nó e produzem um “output” com as operações indicadas;\n",
    "    \n",
    "    . Os ramos do grafo representam ligações que transferem o “output” de um nodo para o “input” do nodo seguinte.\n",
    "      Esta transferência é condicionada pela satisfação da condição associada ao ramo ;"
   ]
  },
  {
   "cell_type": "markdown",
   "id": "473bb037",
   "metadata": {},
   "source": [
    "$$\n",
    "```Python\n",
    "0:{ x=a && y=b && z=0 }\n",
    "1: while(y!=0):\n",
    "2:    if (y%2 == 0):\n",
    "        x = 2*x\n",
    "        y = y/2\n",
    "3:    else:\n",
    "        y = y-1\n",
    "        z = z+x\n",
    "4: stop\n",
    "5:overflow\n",
    "```\n",
    "$$"
   ]
  },
  {
   "cell_type": "markdown",
   "id": "6214287e",
   "metadata": {},
   "source": [
    "Usando estes predicados podemos usar um SMT solver. \n",
    "Para tal precisamos de criar  n cópias das variáveis que caracterizam o estado do FOTS e depois impor que a primeira cópia satisfaz o predicado inicial e que cada par de cópias consecutivas satisfazem o predicado de transição."
   ]
  },
  {
   "cell_type": "markdown",
   "id": "ee116900",
   "metadata": {},
   "source": [
    "A seguinte função cria a  𝑖 -ésima cópia das variáveis de estado, agrupadas num dicionário que nos permite aceder às mesmas pelo nome."
   ]
  },
  {
   "cell_type": "code",
   "execution_count": 5,
   "id": "0b617784",
   "metadata": {},
   "outputs": [],
   "source": [
    "def declare(i):\n",
    "    state = {}\n",
    "    state['pc'] = Symbol('pc'+str(i),INT)\n",
    "    state['x'] = Symbol('x'+str(i),BVType(n))\n",
    "    state['y'] = Symbol('y'+str(i),BVType(n))\n",
    "    state['z'] = Symbol('z'+str(i),BVType(n))\n",
    "    return state"
   ]
  },
  {
   "cell_type": "markdown",
   "id": "211a1e4d",
   "metadata": {},
   "source": [
    "Dado um possível estado do programa (um dicionário de variáveis), a seguinte função devolve um predicado do pySMT que testa se esse estado é um possível estado inicial do programa."
   ]
  },
  {
   "cell_type": "code",
   "execution_count": 6,
   "id": "a0f66a0f",
   "metadata": {},
   "outputs": [],
   "source": [
    "def init(state):\n",
    "    return And(Equals(state['pc'], Int(0)), Equals(state['x'], BV(a,n)), Equals(state['y'], BV(b,n)), Equals(state['z'], BV(0,n)))"
   ]
  },
  {
   "cell_type": "markdown",
   "id": "4ba95fc0",
   "metadata": {},
   "source": [
    "O estado dos FOTS será um conjunto de inteiros contendo o valor pc (o program counter que será 0,1,2,3,4,5), o segundo o valor da variavel x, o terceiro o valor da variavel y e o quarto do valor da variavel z. O estado inicial é caracterizado pelo seguinte perdicado:\n",
    "\n",
    "$$ pc=0 \\land x=a \\land y=b \\land z=0 $$\n",
    "\n",
    "###### As transições possiveis no FOTS:\n",
    "\n",
    "$$ (pc = 0 \\land pc'= 1 \\land x'=x \\land y'=y \\land z'=z)$$\n",
    "$$\\lor$$\n",
    "$$ (pc = 1 \\land y!=0 \\land y\\%2=0 \\land pc'= 2 \\land x'=x \\land y'=y \\land z'=z)$$\n",
    "$$\\lor$$\n",
    "$$ (pc = 1 \\land y!=0 \\land y\\%2!=0 \\land pc'= 3 \\land x'=x \\land y'=y \\land z'=z)$$\n",
    "$$\\lor$$\n",
    "$$ (pc = 1 \\land y=0 \\land pc'= 4 \\land x'= x \\land y'= y \\land z'=z)$$\n",
    "$$\\lor$$\n",
    "$$ (pc = 2 \\land x \\ge 2*x \\land pc'=5 \\land x'=x \\land y'=y \\land z'=z)$$\n",
    "$$\\lor$$\n",
    "$$ (pc = 3 \\land z \\ge z+x \\land pc'=5 \\land x'=x \\land y'=y \\land z'=z)$$\n",
    "$$\\lor$$\n",
    "$$ (pc = 2 \\land pc'=1 \\land x'=2*x \\land y'=y/2 \\land z'=z)$$\n",
    "$$\\lor$$\n",
    "$$ (pc = 3 \\land pc'=1 \\land x'=x \\land y'=y-1 \\land z'=z+x)$$\n",
    "$$\\lor$$\n",
    "$$ (pc = 4 \\land pc'=4  \\land x'= x \\land y'= y \\land z'=z)$$\n",
    "$$\\lor$$\n",
    "$$ (pc = 5 \\land pc'= 5 \\land x'= x \\land y'= y \\land z'=z)$$"
   ]
  },
  {
   "cell_type": "markdown",
   "id": "ac29d154",
   "metadata": {},
   "source": [
    "Dados dois possíveis estados do programa, a seguinte função devolve um predicado do pySMT que testa se é possível transitar do primeiro para o segundo."
   ]
  },
  {
   "cell_type": "code",
   "execution_count": 11,
   "id": "5edda15f",
   "metadata": {},
   "outputs": [],
   "source": [
    "def trans(curr,prox):\n",
    "    t0 = And(Equals(curr['pc'], Int(0)),Equals(prox['pc'], Int(1)), Equals(prox['x'], curr['x']),Equals(prox['y'], curr['y']),Equals(prox['z'], curr['z']))\n",
    "    t1 = And(Equals(curr['pc'], Int(1)), NotEquals(curr['y'],BV(0,n)), NotEquals(BVAnd(curr['y'], BV(1,n)),BV(1,n)), Equals(prox['pc'], Int(2)), Equals(prox['x'], curr['x']),Equals(prox['y'], curr['y']),Equals(prox['z'], curr['z']))\n",
    "    t2 = And(Equals(curr['pc'], Int(1)), NotEquals(curr['y'], BV(0,n)),Equals(BVAnd(curr['y'], BV(1,n)),BV(1,n)), Equals(prox['pc'], Int(3)), Equals(prox['x'], curr['x']),Equals(prox['y'], curr['y']),Equals(prox['z'], curr['z']))\n",
    "    t3 = And(Equals(curr['pc'], Int(1)), Equals(curr['y'], BV(0,n)),Equals(prox['pc'], Int(4)), Equals(prox['x'], curr['x']),Equals(prox['y'], curr['y']),Equals(prox['z'], curr['z']))\n",
    "    t4 = And(Equals(curr['pc'], Int(2)),BVUGE(prox['x'], curr['x']*2),Equals(prox['pc'], Int(5)),Equals(prox['x'], curr['x']),Equals(prox['y'], curr['y']),Equals(prox['z'], curr['z']))\n",
    "    t5 = And(Equals(curr['pc'], Int(3)),BVUGE(prox['z'], BVAdd(curr['z'],curr['x'])),Equals(prox['pc'], Int(5)),Equals(prox['x'], curr['x']),Equals(prox['y'], curr['y']),Equals(prox['z'], curr['z']))\n",
    "    t6 = And(Equals(curr['pc'], Int(2)),Equals(prox['pc'], Int(1)), Equals(prox['x'], curr['x']*2),Equals(prox['y'], curr['y']/2),Equals(prox['z'], curr['z']))\n",
    "    t7 = And(Equals(curr['pc'], Int(3)),Equals(prox['pc'], Int(1)), Equals(prox['x'], curr['x']),Equals(prox['y'], curr['y']-1),Equals(prox['z'], BVAdd(curr['z'],curr['x'])))\n",
    "    t8 = And(Equals(curr['pc'], Int(4)),Equals(prox['pc'], Int(4)), Equals(prox['x'], curr['x']),Equals(prox['y'], curr['y']),Equals(prox['z'], curr['z']))\n",
    "    t9 = And(Equals(curr['pc'], Int(5)),Equals(prox['pc'], Int(5)), Equals(prox['x'], curr['x']),Equals(prox['y'], curr['y']),Equals(prox['z'], curr['z']))\n",
    "    \n",
    "    return Or(t0, t1, t2, t3, t4, t5, t6, t7 ,t8, t9)"
   ]
  },
  {
   "cell_type": "markdown",
   "id": "d7188a4d",
   "metadata": {},
   "source": [
    "### Função gera_traço\n",
    "Utilizamos o SMT solver para gerar um possível traço de execução do programa de tamanho k. Para cada estado do traço deverá imprimir o respectivo valor das variáveis."
   ]
  },
  {
   "cell_type": "code",
   "execution_count": 12,
   "id": "b8757657",
   "metadata": {},
   "outputs": [
    {
     "name": "stdout",
     "output_type": "stream",
     "text": [
      "Passo 0\n",
      "pc = 0\n",
      "x = 2_32\n",
      "y = 21_32\n",
      "z = 0_32\n",
      "-------\n",
      "Passo 1\n",
      "pc = 1\n",
      "x = 2_32\n",
      "y = 21_32\n",
      "z = 0_32\n",
      "-------\n",
      "Passo 2\n",
      "pc = 3\n",
      "x = 2_32\n",
      "y = 21_32\n",
      "z = 0_32\n",
      "-------\n",
      "Passo 3\n",
      "pc = 1\n",
      "x = 2_32\n",
      "y = 20_32\n",
      "z = 2_32\n",
      "-------\n",
      "Passo 4\n",
      "pc = 2\n",
      "x = 2_32\n",
      "y = 20_32\n",
      "z = 2_32\n",
      "-------\n",
      "Passo 5\n",
      "pc = 1\n",
      "x = 4_32\n",
      "y = 10_32\n",
      "z = 2_32\n",
      "-------\n",
      "Passo 6\n",
      "pc = 2\n",
      "x = 4_32\n",
      "y = 10_32\n",
      "z = 2_32\n",
      "-------\n",
      "Passo 7\n",
      "pc = 1\n",
      "x = 8_32\n",
      "y = 5_32\n",
      "z = 2_32\n",
      "-------\n",
      "Passo 8\n",
      "pc = 3\n",
      "x = 8_32\n",
      "y = 5_32\n",
      "z = 2_32\n",
      "-------\n",
      "Passo 9\n",
      "pc = 1\n",
      "x = 8_32\n",
      "y = 4_32\n",
      "z = 10_32\n",
      "-------\n",
      "Passo 10\n",
      "pc = 2\n",
      "x = 8_32\n",
      "y = 4_32\n",
      "z = 10_32\n",
      "-------\n",
      "Passo 11\n",
      "pc = 1\n",
      "x = 16_32\n",
      "y = 2_32\n",
      "z = 10_32\n",
      "-------\n",
      "Passo 12\n",
      "pc = 2\n",
      "x = 16_32\n",
      "y = 2_32\n",
      "z = 10_32\n",
      "-------\n",
      "Passo 13\n",
      "pc = 1\n",
      "x = 32_32\n",
      "y = 1_32\n",
      "z = 10_32\n",
      "-------\n",
      "Passo 14\n",
      "pc = 3\n",
      "x = 32_32\n",
      "y = 1_32\n",
      "z = 10_32\n",
      "-------\n",
      "Passo 15\n",
      "pc = 1\n",
      "x = 32_32\n",
      "y = 0_32\n",
      "z = 42_32\n",
      "-------\n"
     ]
    }
   ],
   "source": [
    "def gera_traco(declare,init,trans,k):\n",
    "\n",
    "    with Solver(name=\"z3\") as s:\n",
    "        \n",
    "        trace = [declare(i) for i in range(k)]\n",
    "        \n",
    "        # adicionar o estado inicial\n",
    "        s.add_assertion(init(trace[0]))\n",
    "        \n",
    "        # adicionar a função transição\n",
    "        for i in range(k-1):\n",
    "            s.add_assertion(trans(trace[i], trace[i+1]))\n",
    "        \n",
    "        if s.solve():\n",
    "            \n",
    "            for i in range(k):\n",
    "                print(\"Passo\", i)\n",
    "                for v in trace[i]:\n",
    "                    print(v, \"=\", s.get_value(trace[i][v]))\n",
    "                print('-------')\n",
    "\n",
    "gera_traco(declare,init,trans,16)"
   ]
  },
  {
   "cell_type": "markdown",
   "id": "89fef98f",
   "metadata": {},
   "source": [
    "## Verificação do invariante "
   ]
  },
  {
   "cell_type": "markdown",
   "id": "eaf410fb",
   "metadata": {},
   "source": [
    "Segue a verificação do seguinte invariante $$ P \\equiv (x∗y+z=a∗b) $$"
   ]
  },
  {
   "cell_type": "code",
   "execution_count": 13,
   "id": "4ecf46c9",
   "metadata": {},
   "outputs": [
    {
     "name": "stdout",
     "output_type": "stream",
     "text": [
      "O invariante mantém-se nos primeiros 20 passos\n"
     ]
    }
   ],
   "source": [
    "def bmc_always(declare,init,trans,inv,K):\n",
    "    for k in range(1,K+1):\n",
    "        with Solver(name=\"z3\") as s:\n",
    "            \n",
    "            trace = [declare(i) for i in range(k)]\n",
    "        \n",
    "            # adicionar o estado inicial\n",
    "            s.add_assertion(init(trace[0]))\n",
    "            \n",
    "            # adicionar a função transição\n",
    "            for i in range(k-1):\n",
    "                s.add_assertion(trans(trace[i], trace[i+1]))\n",
    "                \n",
    "            # adicionar a negação do invariante\n",
    "            s.add_assertion(Not(And(inv(trace[i]) for i in range(k-1))))\n",
    "        \n",
    "            if s.solve():\n",
    "                for i in range(k):\n",
    "                    print(\"Passo\", i)\n",
    "                    for v in trace[i]:\n",
    "                        print(v, \"=\", s.get_value(trace[i][v]))\n",
    "                    print('-------')\n",
    "                print(\"A propriedade não é invariante\")\n",
    "                return\n",
    "            \n",
    "    print(f\"O invariante mantém-se nos primeiros {K} passos\")\n",
    "\n",
    "def nonnegative(state):\n",
    "    c = BV(a,n)\n",
    "    f = BV(b,n)\n",
    "    return (Equals(BVAdd((BVMul(state['x'],state['y'])),state['z']),BVMul(c,f)))\n",
    "\n",
    "bmc_always(declare,init,trans,nonnegative,20)"
   ]
  },
  {
   "cell_type": "code",
   "execution_count": null,
   "id": "212924e2",
   "metadata": {},
   "outputs": [],
   "source": []
  }
 ],
 "metadata": {
  "kernelspec": {
   "display_name": "Python 3 (ipykernel)",
   "language": "python",
   "name": "python3"
  },
  "language_info": {
   "codemirror_mode": {
    "name": "ipython",
    "version": 3
   },
   "file_extension": ".py",
   "mimetype": "text/x-python",
   "name": "python",
   "nbconvert_exporter": "python",
   "pygments_lexer": "ipython3",
   "version": "3.10.8"
  }
 },
 "nbformat": 4,
 "nbformat_minor": 5
}
